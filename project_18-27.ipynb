{
 "cells": [
  {
   "cell_type": "code",
   "execution_count": 4,
   "metadata": {},
   "outputs": [],
   "source": [
    "import pandas as pd\n",
    "import mysql.connector as mysql\n",
    "# from sqlalchemy import create_engine"
   ]
  },
  {
   "cell_type": "code",
   "execution_count": 3,
   "metadata": {},
   "outputs": [],
   "source": [
    "# host=\"localhost\",\n",
    "# user=\"root\",\n",
    "# username=\"root\",\n",
    "# # password=input(\"Enter the password\"),\n",
    "# password=\"Mama@1234$$\",\n",
    "# database=\"project\",\n",
    "# port = 3306"
   ]
  },
  {
   "cell_type": "code",
   "execution_count": 5,
   "metadata": {},
   "outputs": [
    {
     "name": "stdout",
     "output_type": "stream",
     "text": [
      "information_schema\n",
      "learning\n",
      "lu\n",
      "mysql\n",
      "performance_schema\n",
      "project\n",
      "sakila\n",
      "sys\n",
      "world\n"
     ]
    }
   ],
   "source": [
    "mydb = mysql.connect(\n",
    "  host=\"localhost\",\n",
    "  user=\"root\",\n",
    "  username=\"root\",\n",
    "  # password=input(\"Enter the password\"),\n",
    "  password=\"Mama@1234$$\",\n",
    "  database=\"project\",\n",
    "  allow_local_infile=True\n",
    ")\n",
    "\n",
    "\n",
    "mycursor = mydb.cursor()\n",
    "x=(\"SHOW DATABASES;\") \n",
    "mycursor.execute(x)\n",
    "for db in mycursor.fetchall():\n",
    "    print(db[0])\n",
    "# mycursor.execute(\"SELECT DATABASE()\")\n",
    "# database_name = mycursor.fetchone()\n",
    "# print('Available Databases', mycursor.execute(\"SELECT DATABASE()\"))\n",
    "# print(\"You are connected to the database: \", database_name)"
   ]
  },
  {
   "cell_type": "code",
   "execution_count": 7,
   "metadata": {},
   "outputs": [],
   "source": [
    "mycursor.execute(\"use project\")\n",
    "# mycursor.fetchall()\n",
    "mycursor.execute(\"select database()\")\n",
    "curr_db = mycursor.fetchall()\n"
   ]
  },
  {
   "cell_type": "code",
   "execution_count": 8,
   "metadata": {},
   "outputs": [],
   "source": [
    "# df = pd.read_csv(\"../cleandata/all_hospitals.csv\", header=0)\n",
    "# table_name = 'all_hosp'\n",
    "\n",
    "# columns = list(df.columns)\n",
    "# a = f\"CREATE TABLE {table_name} ({','.join([f'{col} VARCHAR(255)' for col in columns])})\"\n",
    "# a"
   ]
  },
  {
   "cell_type": "code",
   "execution_count": 9,
   "metadata": {},
   "outputs": [
    {
     "name": "stderr",
     "output_type": "stream",
     "text": [
      "C:\\Users\\Miles\\AppData\\Local\\Temp\\ipykernel_12688\\4266159376.py:2: FutureWarning: The default value of regex will change from True to False in a future version.\n",
      "  df.columns = df.columns.str.replace('[^a-zA-Z0-9]', '_')\n"
     ]
    },
    {
     "ename": "ProgrammingError",
     "evalue": "1050 (42S01): Table 'all_hospitals' already exists",
     "output_type": "error",
     "traceback": [
      "\u001b[1;31m---------------------------------------------------------------------------\u001b[0m",
      "\u001b[1;31mMySQLInterfaceError\u001b[0m                       Traceback (most recent call last)",
      "File \u001b[1;32mc:\\Users\\Miles\\AppData\\Local\\Programs\\Python\\Python311\\Lib\\site-packages\\mysql\\connector\\connection_cext.py:608\u001b[0m, in \u001b[0;36mCMySQLConnection.cmd_query\u001b[1;34m(self, query, raw, buffered, raw_as_string)\u001b[0m\n\u001b[0;32m    607\u001b[0m         query \u001b[39m=\u001b[39m query\u001b[39m.\u001b[39mencode(\u001b[39m\"\u001b[39m\u001b[39mutf-8\u001b[39m\u001b[39m\"\u001b[39m)\n\u001b[1;32m--> 608\u001b[0m     \u001b[39mself\u001b[39;49m\u001b[39m.\u001b[39;49m_cmysql\u001b[39m.\u001b[39;49mquery(\n\u001b[0;32m    609\u001b[0m         query,\n\u001b[0;32m    610\u001b[0m         raw\u001b[39m=\u001b[39;49mraw,\n\u001b[0;32m    611\u001b[0m         buffered\u001b[39m=\u001b[39;49mbuffered,\n\u001b[0;32m    612\u001b[0m         raw_as_string\u001b[39m=\u001b[39;49mraw_as_string,\n\u001b[0;32m    613\u001b[0m         query_attrs\u001b[39m=\u001b[39;49m\u001b[39mself\u001b[39;49m\u001b[39m.\u001b[39;49m_query_attrs,\n\u001b[0;32m    614\u001b[0m     )\n\u001b[0;32m    615\u001b[0m \u001b[39mexcept\u001b[39;00m MySQLInterfaceError \u001b[39mas\u001b[39;00m err:\n",
      "\u001b[1;31mMySQLInterfaceError\u001b[0m: Table 'all_hospitals' already exists",
      "\nThe above exception was the direct cause of the following exception:\n",
      "\u001b[1;31mProgrammingError\u001b[0m                          Traceback (most recent call last)",
      "Cell \u001b[1;32mIn[9], line 8\u001b[0m\n\u001b[0;32m      5\u001b[0m columns \u001b[39m=\u001b[39m \u001b[39mlist\u001b[39m(df\u001b[39m.\u001b[39mcolumns)\n\u001b[0;32m      6\u001b[0m sql_query \u001b[39m=\u001b[39m \u001b[39mf\u001b[39m\u001b[39m\"\u001b[39m\u001b[39mCREATE TABLE \u001b[39m\u001b[39m{\u001b[39;00mtable_name\u001b[39m}\u001b[39;00m\u001b[39m (\u001b[39m\u001b[39m{\u001b[39;00m\u001b[39m'\u001b[39m\u001b[39m,\u001b[39m\u001b[39m'\u001b[39m\u001b[39m.\u001b[39mjoin([\u001b[39mf\u001b[39m\u001b[39m'\u001b[39m\u001b[39m{\u001b[39;00mcol\u001b[39m}\u001b[39;00m\u001b[39m VARCHAR(255)\u001b[39m\u001b[39m'\u001b[39m\u001b[39m \u001b[39m\u001b[39mfor\u001b[39;00m\u001b[39m \u001b[39mcol\u001b[39m \u001b[39m\u001b[39min\u001b[39;00m\u001b[39m \u001b[39mcolumns])\u001b[39m}\u001b[39;00m\u001b[39m)\u001b[39m\u001b[39m\"\u001b[39m\n\u001b[1;32m----> 8\u001b[0m mycursor\u001b[39m.\u001b[39;49mexecute(sql_query)\n\u001b[0;32m     10\u001b[0m \u001b[39mfor\u001b[39;00m _, row \u001b[39min\u001b[39;00m df\u001b[39m.\u001b[39miterrows():\n\u001b[0;32m     11\u001b[0m     sql_query \u001b[39m=\u001b[39m \u001b[39mf\u001b[39m\u001b[39m\"\u001b[39m\u001b[39mINSERT INTO \u001b[39m\u001b[39m{\u001b[39;00mtable_name\u001b[39m}\u001b[39;00m\u001b[39m (\u001b[39m\u001b[39m{\u001b[39;00m\u001b[39m'\u001b[39m\u001b[39m,\u001b[39m\u001b[39m'\u001b[39m\u001b[39m.\u001b[39mjoin(columns)\u001b[39m}\u001b[39;00m\u001b[39m) VALUES (\u001b[39m\u001b[39m{\u001b[39;00m\u001b[39m'\u001b[39m\u001b[39m,\u001b[39m\u001b[39m'\u001b[39m\u001b[39m.\u001b[39mjoin([\u001b[39m'\u001b[39m\u001b[39m%s\u001b[39;00m\u001b[39m'\u001b[39m]\u001b[39m*\u001b[39m\u001b[39mlen\u001b[39m(columns))\u001b[39m}\u001b[39;00m\u001b[39m)\u001b[39m\u001b[39m\"\u001b[39m\n",
      "File \u001b[1;32mc:\\Users\\Miles\\AppData\\Local\\Programs\\Python\\Python311\\Lib\\site-packages\\mysql\\connector\\cursor_cext.py:330\u001b[0m, in \u001b[0;36mCMySQLCursor.execute\u001b[1;34m(self, operation, params, multi)\u001b[0m\n\u001b[0;32m    325\u001b[0m             \u001b[39mraise\u001b[39;00m ProgrammingError(\n\u001b[0;32m    326\u001b[0m                 \u001b[39m\"\u001b[39m\u001b[39mNot all parameters were used in the SQL statement\u001b[39m\u001b[39m\"\u001b[39m\n\u001b[0;32m    327\u001b[0m             )\n\u001b[0;32m    329\u001b[0m \u001b[39mtry\u001b[39;00m:\n\u001b[1;32m--> 330\u001b[0m     result \u001b[39m=\u001b[39m \u001b[39mself\u001b[39;49m\u001b[39m.\u001b[39;49m_cnx\u001b[39m.\u001b[39;49mcmd_query(\n\u001b[0;32m    331\u001b[0m         stmt,\n\u001b[0;32m    332\u001b[0m         raw\u001b[39m=\u001b[39;49m\u001b[39mself\u001b[39;49m\u001b[39m.\u001b[39;49m_raw,\n\u001b[0;32m    333\u001b[0m         buffered\u001b[39m=\u001b[39;49m\u001b[39mself\u001b[39;49m\u001b[39m.\u001b[39;49m_buffered,\n\u001b[0;32m    334\u001b[0m         raw_as_string\u001b[39m=\u001b[39;49m\u001b[39mself\u001b[39;49m\u001b[39m.\u001b[39;49m_raw_as_string,\n\u001b[0;32m    335\u001b[0m     )\n\u001b[0;32m    336\u001b[0m \u001b[39mexcept\u001b[39;00m MySQLInterfaceError \u001b[39mas\u001b[39;00m err:\n\u001b[0;32m    337\u001b[0m     \u001b[39mraise\u001b[39;00m get_mysql_exception(\n\u001b[0;32m    338\u001b[0m         msg\u001b[39m=\u001b[39merr\u001b[39m.\u001b[39mmsg, errno\u001b[39m=\u001b[39merr\u001b[39m.\u001b[39merrno, sqlstate\u001b[39m=\u001b[39merr\u001b[39m.\u001b[39msqlstate\n\u001b[0;32m    339\u001b[0m     ) \u001b[39mfrom\u001b[39;00m \u001b[39merr\u001b[39;00m\n",
      "File \u001b[1;32mc:\\Users\\Miles\\AppData\\Local\\Programs\\Python\\Python311\\Lib\\site-packages\\mysql\\connector\\connection_cext.py:616\u001b[0m, in \u001b[0;36mCMySQLConnection.cmd_query\u001b[1;34m(self, query, raw, buffered, raw_as_string)\u001b[0m\n\u001b[0;32m    608\u001b[0m     \u001b[39mself\u001b[39m\u001b[39m.\u001b[39m_cmysql\u001b[39m.\u001b[39mquery(\n\u001b[0;32m    609\u001b[0m         query,\n\u001b[0;32m    610\u001b[0m         raw\u001b[39m=\u001b[39mraw,\n\u001b[1;32m   (...)\u001b[0m\n\u001b[0;32m    613\u001b[0m         query_attrs\u001b[39m=\u001b[39m\u001b[39mself\u001b[39m\u001b[39m.\u001b[39m_query_attrs,\n\u001b[0;32m    614\u001b[0m     )\n\u001b[0;32m    615\u001b[0m \u001b[39mexcept\u001b[39;00m MySQLInterfaceError \u001b[39mas\u001b[39;00m err:\n\u001b[1;32m--> 616\u001b[0m     \u001b[39mraise\u001b[39;00m get_mysql_exception(\n\u001b[0;32m    617\u001b[0m         err\u001b[39m.\u001b[39merrno, msg\u001b[39m=\u001b[39merr\u001b[39m.\u001b[39mmsg, sqlstate\u001b[39m=\u001b[39merr\u001b[39m.\u001b[39msqlstate\n\u001b[0;32m    618\u001b[0m     ) \u001b[39mfrom\u001b[39;00m \u001b[39merr\u001b[39;00m\n\u001b[0;32m    619\u001b[0m \u001b[39mexcept\u001b[39;00m \u001b[39mAttributeError\u001b[39;00m \u001b[39mas\u001b[39;00m err:\n\u001b[0;32m    620\u001b[0m     addr \u001b[39m=\u001b[39m (\n\u001b[0;32m    621\u001b[0m         \u001b[39mself\u001b[39m\u001b[39m.\u001b[39m_unix_socket \u001b[39mif\u001b[39;00m \u001b[39mself\u001b[39m\u001b[39m.\u001b[39m_unix_socket \u001b[39melse\u001b[39;00m \u001b[39mf\u001b[39m\u001b[39m\"\u001b[39m\u001b[39m{\u001b[39;00m\u001b[39mself\u001b[39m\u001b[39m.\u001b[39m_host\u001b[39m}\u001b[39;00m\u001b[39m:\u001b[39m\u001b[39m{\u001b[39;00m\u001b[39mself\u001b[39m\u001b[39m.\u001b[39m_port\u001b[39m}\u001b[39;00m\u001b[39m\"\u001b[39m\n\u001b[0;32m    622\u001b[0m     )\n",
      "\u001b[1;31mProgrammingError\u001b[0m: 1050 (42S01): Table 'all_hospitals' already exists"
     ]
    }
   ],
   "source": [
    "df = pd.read_csv(\"../cleandata/all_hospitals.csv\", header=0)\n",
    "df.columns = df.columns.str.replace('[^a-zA-Z0-9]', '_')\n",
    "table_name = 'all_hospitals'\n",
    "\n",
    "columns = list(df.columns)\n",
    "sql_query = f\"CREATE TABLE {table_name} ({','.join([f'{col} VARCHAR(255)' for col in columns])})\"\n",
    "\n",
    "mycursor.execute(sql_query)\n",
    "\n",
    "for _, row in df.iterrows():\n",
    "    sql_query = f\"INSERT INTO {table_name} ({','.join(columns)}) VALUES ({','.join(['%s']*len(columns))})\"\n",
    "    values = tuple(row)\n",
    "    mycursor.execute(sql_query, values)\n",
    "\n",
    "mydb.commit()\n",
    "mycursor.close()\n",
    "\n",
    "print(f\"{len(df)} rows inserted into {table_name}\")\n"
   ]
  },
  {
   "cell_type": "code",
   "execution_count": null,
   "metadata": {},
   "outputs": [],
   "source": [
    "mycursor = mydb.cursor()"
   ]
  },
  {
   "cell_type": "code",
   "execution_count": null,
   "metadata": {},
   "outputs": [
    {
     "name": "stderr",
     "output_type": "stream",
     "text": [
      "C:\\Users\\Miles\\AppData\\Local\\Temp\\ipykernel_10948\\1510970523.py:2: FutureWarning: The default value of regex will change from True to False in a future version.\n",
      "  df.columns = df.columns.str.replace('[^a-zA-Z0-9]', '_')\n"
     ]
    },
    {
     "ename": "ProgrammingError",
     "evalue": "1050 (42S01): Table 'census_clean' already exists",
     "output_type": "error",
     "traceback": [
      "\u001b[1;31m---------------------------------------------------------------------------\u001b[0m",
      "\u001b[1;31mMySQLInterfaceError\u001b[0m                       Traceback (most recent call last)",
      "File \u001b[1;32mc:\\Users\\Miles\\AppData\\Local\\Programs\\Python\\Python311\\Lib\\site-packages\\mysql\\connector\\connection_cext.py:608\u001b[0m, in \u001b[0;36mCMySQLConnection.cmd_query\u001b[1;34m(self, query, raw, buffered, raw_as_string)\u001b[0m\n\u001b[0;32m    607\u001b[0m         query \u001b[39m=\u001b[39m query\u001b[39m.\u001b[39mencode(\u001b[39m\"\u001b[39m\u001b[39mutf-8\u001b[39m\u001b[39m\"\u001b[39m)\n\u001b[1;32m--> 608\u001b[0m     \u001b[39mself\u001b[39;49m\u001b[39m.\u001b[39;49m_cmysql\u001b[39m.\u001b[39;49mquery(\n\u001b[0;32m    609\u001b[0m         query,\n\u001b[0;32m    610\u001b[0m         raw\u001b[39m=\u001b[39;49mraw,\n\u001b[0;32m    611\u001b[0m         buffered\u001b[39m=\u001b[39;49mbuffered,\n\u001b[0;32m    612\u001b[0m         raw_as_string\u001b[39m=\u001b[39;49mraw_as_string,\n\u001b[0;32m    613\u001b[0m         query_attrs\u001b[39m=\u001b[39;49m\u001b[39mself\u001b[39;49m\u001b[39m.\u001b[39;49m_query_attrs,\n\u001b[0;32m    614\u001b[0m     )\n\u001b[0;32m    615\u001b[0m \u001b[39mexcept\u001b[39;00m MySQLInterfaceError \u001b[39mas\u001b[39;00m err:\n",
      "\u001b[1;31mMySQLInterfaceError\u001b[0m: Table 'census_clean' already exists",
      "\nThe above exception was the direct cause of the following exception:\n",
      "\u001b[1;31mProgrammingError\u001b[0m                          Traceback (most recent call last)",
      "Cell \u001b[1;32mIn[75], line 8\u001b[0m\n\u001b[0;32m      5\u001b[0m columns \u001b[39m=\u001b[39m \u001b[39mlist\u001b[39m(df\u001b[39m.\u001b[39mcolumns)\n\u001b[0;32m      6\u001b[0m sql_query \u001b[39m=\u001b[39m \u001b[39mf\u001b[39m\u001b[39m\"\u001b[39m\u001b[39mCREATE TABLE \u001b[39m\u001b[39m{\u001b[39;00mtable_name\u001b[39m}\u001b[39;00m\u001b[39m (\u001b[39m\u001b[39m{\u001b[39;00m\u001b[39m'\u001b[39m\u001b[39m,\u001b[39m\u001b[39m'\u001b[39m\u001b[39m.\u001b[39mjoin([\u001b[39mf\u001b[39m\u001b[39m'\u001b[39m\u001b[39m{\u001b[39;00mcol\u001b[39m}\u001b[39;00m\u001b[39m VARCHAR(255)\u001b[39m\u001b[39m'\u001b[39m\u001b[39m \u001b[39m\u001b[39mfor\u001b[39;00m\u001b[39m \u001b[39mcol\u001b[39m \u001b[39m\u001b[39min\u001b[39;00m\u001b[39m \u001b[39mcolumns])\u001b[39m}\u001b[39;00m\u001b[39m)\u001b[39m\u001b[39m\"\u001b[39m\n\u001b[1;32m----> 8\u001b[0m mycursor\u001b[39m.\u001b[39;49mexecute(sql_query)\n\u001b[0;32m     10\u001b[0m \u001b[39mfor\u001b[39;00m _, row \u001b[39min\u001b[39;00m df\u001b[39m.\u001b[39miterrows():\n\u001b[0;32m     11\u001b[0m     sql_query \u001b[39m=\u001b[39m \u001b[39mf\u001b[39m\u001b[39m\"\u001b[39m\u001b[39mINSERT INTO \u001b[39m\u001b[39m{\u001b[39;00mtable_name\u001b[39m}\u001b[39;00m\u001b[39m (\u001b[39m\u001b[39m{\u001b[39;00m\u001b[39m'\u001b[39m\u001b[39m,\u001b[39m\u001b[39m'\u001b[39m\u001b[39m.\u001b[39mjoin(columns)\u001b[39m}\u001b[39;00m\u001b[39m) VALUES (\u001b[39m\u001b[39m{\u001b[39;00m\u001b[39m'\u001b[39m\u001b[39m,\u001b[39m\u001b[39m'\u001b[39m\u001b[39m.\u001b[39mjoin([\u001b[39m'\u001b[39m\u001b[39m%s\u001b[39;00m\u001b[39m'\u001b[39m]\u001b[39m*\u001b[39m\u001b[39mlen\u001b[39m(columns))\u001b[39m}\u001b[39;00m\u001b[39m)\u001b[39m\u001b[39m\"\u001b[39m\n",
      "File \u001b[1;32mc:\\Users\\Miles\\AppData\\Local\\Programs\\Python\\Python311\\Lib\\site-packages\\mysql\\connector\\cursor_cext.py:330\u001b[0m, in \u001b[0;36mCMySQLCursor.execute\u001b[1;34m(self, operation, params, multi)\u001b[0m\n\u001b[0;32m    325\u001b[0m             \u001b[39mraise\u001b[39;00m ProgrammingError(\n\u001b[0;32m    326\u001b[0m                 \u001b[39m\"\u001b[39m\u001b[39mNot all parameters were used in the SQL statement\u001b[39m\u001b[39m\"\u001b[39m\n\u001b[0;32m    327\u001b[0m             )\n\u001b[0;32m    329\u001b[0m \u001b[39mtry\u001b[39;00m:\n\u001b[1;32m--> 330\u001b[0m     result \u001b[39m=\u001b[39m \u001b[39mself\u001b[39;49m\u001b[39m.\u001b[39;49m_cnx\u001b[39m.\u001b[39;49mcmd_query(\n\u001b[0;32m    331\u001b[0m         stmt,\n\u001b[0;32m    332\u001b[0m         raw\u001b[39m=\u001b[39;49m\u001b[39mself\u001b[39;49m\u001b[39m.\u001b[39;49m_raw,\n\u001b[0;32m    333\u001b[0m         buffered\u001b[39m=\u001b[39;49m\u001b[39mself\u001b[39;49m\u001b[39m.\u001b[39;49m_buffered,\n\u001b[0;32m    334\u001b[0m         raw_as_string\u001b[39m=\u001b[39;49m\u001b[39mself\u001b[39;49m\u001b[39m.\u001b[39;49m_raw_as_string,\n\u001b[0;32m    335\u001b[0m     )\n\u001b[0;32m    336\u001b[0m \u001b[39mexcept\u001b[39;00m MySQLInterfaceError \u001b[39mas\u001b[39;00m err:\n\u001b[0;32m    337\u001b[0m     \u001b[39mraise\u001b[39;00m get_mysql_exception(\n\u001b[0;32m    338\u001b[0m         msg\u001b[39m=\u001b[39merr\u001b[39m.\u001b[39mmsg, errno\u001b[39m=\u001b[39merr\u001b[39m.\u001b[39merrno, sqlstate\u001b[39m=\u001b[39merr\u001b[39m.\u001b[39msqlstate\n\u001b[0;32m    339\u001b[0m     ) \u001b[39mfrom\u001b[39;00m \u001b[39merr\u001b[39;00m\n",
      "File \u001b[1;32mc:\\Users\\Miles\\AppData\\Local\\Programs\\Python\\Python311\\Lib\\site-packages\\mysql\\connector\\connection_cext.py:616\u001b[0m, in \u001b[0;36mCMySQLConnection.cmd_query\u001b[1;34m(self, query, raw, buffered, raw_as_string)\u001b[0m\n\u001b[0;32m    608\u001b[0m     \u001b[39mself\u001b[39m\u001b[39m.\u001b[39m_cmysql\u001b[39m.\u001b[39mquery(\n\u001b[0;32m    609\u001b[0m         query,\n\u001b[0;32m    610\u001b[0m         raw\u001b[39m=\u001b[39mraw,\n\u001b[1;32m   (...)\u001b[0m\n\u001b[0;32m    613\u001b[0m         query_attrs\u001b[39m=\u001b[39m\u001b[39mself\u001b[39m\u001b[39m.\u001b[39m_query_attrs,\n\u001b[0;32m    614\u001b[0m     )\n\u001b[0;32m    615\u001b[0m \u001b[39mexcept\u001b[39;00m MySQLInterfaceError \u001b[39mas\u001b[39;00m err:\n\u001b[1;32m--> 616\u001b[0m     \u001b[39mraise\u001b[39;00m get_mysql_exception(\n\u001b[0;32m    617\u001b[0m         err\u001b[39m.\u001b[39merrno, msg\u001b[39m=\u001b[39merr\u001b[39m.\u001b[39mmsg, sqlstate\u001b[39m=\u001b[39merr\u001b[39m.\u001b[39msqlstate\n\u001b[0;32m    618\u001b[0m     ) \u001b[39mfrom\u001b[39;00m \u001b[39merr\u001b[39;00m\n\u001b[0;32m    619\u001b[0m \u001b[39mexcept\u001b[39;00m \u001b[39mAttributeError\u001b[39;00m \u001b[39mas\u001b[39;00m err:\n\u001b[0;32m    620\u001b[0m     addr \u001b[39m=\u001b[39m (\n\u001b[0;32m    621\u001b[0m         \u001b[39mself\u001b[39m\u001b[39m.\u001b[39m_unix_socket \u001b[39mif\u001b[39;00m \u001b[39mself\u001b[39m\u001b[39m.\u001b[39m_unix_socket \u001b[39melse\u001b[39;00m \u001b[39mf\u001b[39m\u001b[39m\"\u001b[39m\u001b[39m{\u001b[39;00m\u001b[39mself\u001b[39m\u001b[39m.\u001b[39m_host\u001b[39m}\u001b[39;00m\u001b[39m:\u001b[39m\u001b[39m{\u001b[39;00m\u001b[39mself\u001b[39m\u001b[39m.\u001b[39m_port\u001b[39m}\u001b[39;00m\u001b[39m\"\u001b[39m\n\u001b[0;32m    622\u001b[0m     )\n",
      "\u001b[1;31mProgrammingError\u001b[0m: 1050 (42S01): Table 'census_clean' already exists"
     ]
    }
   ],
   "source": [
    "df = pd.read_csv(\"../cleandata/census_clean.csv\", header=0)\n",
    "df.columns = df.columns.str.replace('[^a-zA-Z0-9]', '_')\n",
    "table_name = 'census_clean'\n",
    "\n",
    "columns = list(df.columns)\n",
    "sql_query = f\"CREATE TABLE {table_name} ({','.join([f'{col} VARCHAR(255)' for col in columns])})\"\n",
    "\n",
    "mycursor.execute(sql_query)\n",
    "\n",
    "for _, row in df.iterrows():\n",
    "    sql_query = f\"INSERT INTO {table_name} ({','.join(columns)}) VALUES ({','.join(['%s']*len(columns))})\"\n",
    "    values = tuple(row)\n",
    "    mycursor.execute(sql_query, values)\n",
    "\n",
    "mydb.commit()\n",
    "mycursor.close()\n",
    "\n",
    "print(f\"{len(df)} rows inserted into {table_name}\")"
   ]
  },
  {
   "cell_type": "code",
   "execution_count": null,
   "metadata": {},
   "outputs": [],
   "source": [
    "mycursor = mydb.cursor()"
   ]
  },
  {
   "cell_type": "code",
   "execution_count": null,
   "metadata": {},
   "outputs": [
    {
     "name": "stdout",
     "output_type": "stream",
     "text": [
      "37 rows inserted into government_hospital\n"
     ]
    },
    {
     "name": "stderr",
     "output_type": "stream",
     "text": [
      "C:\\Users\\Miles\\AppData\\Local\\Temp\\ipykernel_10948\\211224457.py:2: FutureWarning: The default value of regex will change from True to False in a future version.\n",
      "  df.columns = df.columns.str.replace('[^a-zA-Z0-9]', '_')\n"
     ]
    }
   ],
   "source": [
    "df = pd.read_csv(\"../cleandata/government_hospital.csv\", header=0)\n",
    "df.columns = df.columns.str.replace('[^a-zA-Z0-9]', '_')\n",
    "df.fillna(0, inplace=True)\n",
    "table_name = 'government_hospital'\n",
    "\n",
    "columns = list(df.columns)\n",
    "sql_query = f\"CREATE TABLE {table_name} ({','.join([f'{col} VARCHAR(255)' for col in columns])})\"\n",
    "\n",
    "mycursor.execute(sql_query)\n",
    "\n",
    "for _, row in df.iterrows():\n",
    "    sql_query = f\"INSERT INTO {table_name} ({','.join(columns)}) VALUES ({','.join(['%s']*len(columns))})\"\n",
    "    values = tuple(row)\n",
    "    mycursor.execute(sql_query, values)\n",
    "\n",
    "mydb.commit()\n",
    "mycursor.close()\n",
    "\n",
    "print(f\"{len(df)} rows inserted into {table_name}\")"
   ]
  },
  {
   "cell_type": "code",
   "execution_count": null,
   "metadata": {},
   "outputs": [
    {
     "name": "stdout",
     "output_type": "stream",
     "text": [
      "635 rows inserted into housing\n"
     ]
    },
    {
     "name": "stderr",
     "output_type": "stream",
     "text": [
      "C:\\Users\\Miles\\AppData\\Local\\Temp\\ipykernel_10948\\3614071828.py:2: FutureWarning: The default value of regex will change from True to False in a future version.\n",
      "  df.columns = df.columns.str.replace('[^a-zA-Z0-9]', '_')\n"
     ]
    }
   ],
   "source": [
    "df = pd.read_csv(\"../cleandata/housing_clean.csv\", header=0)\n",
    "df.columns = df.columns.str.replace('[^a-zA-Z0-9]', '_')\n",
    "df.fillna(0, inplace=True)\n",
    "table_name = 'housing'\n",
    "\n",
    "columns = list(df.columns)\n",
    "sql_query = f\"CREATE TABLE {table_name} ({','.join([f'{col} VARCHAR(255)' for col in columns])})\"\n",
    "\n",
    "mycursor.execute(sql_query)\n",
    "\n",
    "for _, row in df.iterrows():\n",
    "    sql_query = f\"INSERT INTO {table_name} ({','.join(columns)}) VALUES ({','.join(['%s']*len(columns))})\"\n",
    "    values = tuple(row)\n",
    "    mycursor.execute(sql_query, values)\n",
    "\n",
    "mydb.commit()\n",
    "mycursor.close()\n",
    "\n",
    "print(f\"{len(df)} rows inserted into {table_name}\")"
   ]
  },
  {
   "attachments": {},
   "cell_type": "markdown",
   "metadata": {},
   "source": [
    "###Problem Statement 19: (Verify upload)\n",
    "Verification is a necessary process to be followed after uploading the data.\n",
    "Join all the tables using the respective primary key- foreign key pair and show the top 3 rows. \n",
    "Verify whether the result is as expected or not. If not, then identify and fix the issue.\n"
   ]
  },
  {
   "cell_type": "code",
   "execution_count": null,
   "metadata": {},
   "outputs": [
    {
     "name": "stdout",
     "output_type": "stream",
     "text": [
      "('Andhra Pradesh', '1417', '198', '31', '20', '1666', '60799', 'Andhra Pradesh', 'Adilabad', '2741239.0', '1369597.0', '1371642.0', '1483347.0', '856350.0', '626997.0', '597466.0', '220248.0', '817714.0', '1536378.0', '704551.0', '422522.0', '77788.0', 'Andhra Pradesh', '193', '6480', '65', '16658', '2017-01-01', 'Andhra Pradesh', 'Adilabad', '82450', '155715', '38835', '6166', '213295', '51758', '597466', '220248')\n",
      "('Andhra Pradesh', '1417', '198', '31', '20', '1666', '60799', 'Andhra Pradesh', 'Anantapur', '4081148.0', '2064495.0', '2016653.0', '2310960.0', '1338474.0', '972486.0', '902997.0', '341431.0', '1244428.0', '2189396.0', '1104565.0', '739612.0', '47575.0', 'Andhra Pradesh', '193', '6480', '65', '16658', '2017-01-01', 'Andhra Pradesh', 'Adilabad', '82450', '155715', '38835', '6166', '213295', '51758', '597466', '220248')\n",
      "('Andhra Pradesh', '1417', '198', '31', '20', '1666', '60799', 'Andhra Pradesh', 'Chittoor', '4174064.0', '2090204.0', '2083860.0', '2667878.0', '1484794.0', '1183084.0', '120763.64251968505', '395900.0', '516663.642519685', '2148179.0', '1159053.0', '807430.0', '59402.0', 'Andhra Pradesh', '193', '6480', '65', '16658', '2017-01-01', 'Andhra Pradesh', 'Adilabad', '82450', '155715', '38835', '6166', '213295', '51758', '597466', '220248')\n"
     ]
    }
   ],
   "source": [
    "mycursor.execute(\"use project\")\n",
    "mycursor.execute(\"\"\"Select * \n",
    "from all_hospitals as hosp\n",
    "JOIN census_clean as cen\n",
    "ON cen.State_UT = hosp.State_UT\n",
    "JOIN government_Hospital as gov\n",
    "ON\tgov.State_UT = hosp.State_UT\n",
    "JOIN housing as house\n",
    "ON house.State_UT = gov.State_UT limit 3\"\"\")\n",
    "for db in mycursor.fetchall():\n",
    "    print(db)"
   ]
  },
  {
   "attachments": {},
   "cell_type": "markdown",
   "metadata": {},
   "source": [
    "##Problem Statement 20: (Run Query on the database and use in python)\n",
    "Write a query that finds the number of households without a toilet on the premise for each district of the state that has the least hospital bed-to-population ratio. \n",
    "Display the information using python.\n",
    "\n"
   ]
  },
  {
   "cell_type": "code",
   "execution_count": null,
   "metadata": {},
   "outputs": [
    {
     "name": "stdout",
     "output_type": "stream",
     "text": [
      "('Bihar', 'Araria', 635110.0)\n",
      "('Bihar', 'Arwal', 110185.0)\n",
      "('Bihar', 'Aurangabad', 359987.0)\n",
      "('Bihar', 'Banka', 388570.0)\n",
      "('Bihar', 'Begusarai', 501713.0)\n",
      "('Bihar', 'Bhagalpur', 428343.0)\n",
      "('Bihar', 'Bhojpur', 369769.0)\n",
      "('Bihar', 'Buxar', 251015.0)\n",
      "('Bihar', 'Darbhanga', 749103.0)\n",
      "('Bihar', 'Gaya', 606107.0)\n",
      "('Bihar', 'Gopalganj', 441305.0)\n",
      "('Bihar', 'Jamui', 302891.0)\n",
      "('Bihar', 'Jehanabad', 154122.0)\n",
      "('Bihar', 'Kaimur (Bhabua)', 282558.0)\n",
      "('Bihar', 'Katihar', 605366.0)\n",
      "('Bihar', 'Khagaria', 299684.0)\n",
      "('Bihar', 'Kishanganj', 397737.0)\n",
      "('Bihar', 'Lakhisarai', 140943.0)\n",
      "('Bihar', 'Madhepura', 443017.0)\n",
      "('Bihar', 'Madhubani', 884676.0)\n",
      "('Bihar', 'Munger', 186398.0)\n",
      "('Bihar', 'Muzaffarpur', 807622.0)\n",
      "('Bihar', 'Nalanda', 423983.0)\n",
      "('Bihar', 'Nawada', 327804.0)\n",
      "('Bihar', 'Pashchim Champaran', 787512.0)\n",
      "('Bihar', 'Patna', 550920.0)\n",
      "('Bihar', 'Purba Champaran', 1011930.0)\n",
      "('Bihar', 'Purnia', 686615.0)\n",
      "('Bihar', 'Rohtas', 434506.0)\n",
      "('Bihar', 'Saharsa', 390897.0)\n",
      "('Bihar', 'Samastipur', 853732.0)\n",
      "('Bihar', 'Saran', 607771.0)\n",
      "('Bihar', 'Sheikhpura', 93615.0)\n",
      "('Bihar', 'Sheohar', 131848.0)\n",
      "('Bihar', 'Sitamarhi', 675951.0)\n",
      "('Bihar', 'Siwan', 516719.0)\n",
      "('Bihar', 'Supaul', 535007.0)\n",
      "('Bihar', 'Vaishali', 544056.0)\n"
     ]
    }
   ],
   "source": [
    "mycursor.execute(\"use project\")\n",
    "mycursor.execute(\"\"\"Select State_UT, District,(Households_Rural+Households_Urban)-(Households_Urban_Toilet_Premise + Households_Rural_Toilet_Premise) as \"without_toilet_on_premise\"\n",
    "from housing\n",
    "where State_UT = 'Bihar' \"\"\")\n",
    "for db in mycursor.fetchall():\n",
    "    print(db)\n",
    "\n",
    "# engine = create_engine(f'mysql+pymysql://{username}:{password}@{host}:{port}/{database}')\n",
    "# query=\"\"\"Select State_UT, District,(Households_Rural+Households_Urban)-(Households_Urban_Toilet_Premise + Households_Rural_Toilet_Premise) as \"without_toilet_on_premise\" \n",
    "# from housing\n",
    "# where State_UT = 'Bihar' \"\"\"\n",
    "\n",
    "# df = pd.read_sql_query(query, engine)\n",
    "# print(df)"
   ]
  },
  {
   "attachments": {
    "image.png": {
     "image/png": "[encoded data removed]"
    }
   },
   "cell_type": "markdown",
   "metadata": {},
   "source": [
    "![image.png](attachment:image.png)"
   ]
  },
  {
   "attachments": {},
   "cell_type": "markdown",
   "metadata": {},
   "source": [
    "FUNCTION FOR DISTRICT NAME"
   ]
  },
  {
   "cell_type": "code",
   "execution_count": null,
   "metadata": {},
   "outputs": [
    {
     "name": "stdout",
     "output_type": "stream",
     "text": [
      "[(3488809,)]\n"
     ]
    }
   ],
   "source": [
    "\n",
    "# mycursor = mydb.cursor()\n",
    "# x21 = (\"\"\"CREATE FUNCTION Get_population_district(district_name VARCHAR(255))\n",
    "# RETURNS INT \n",
    "# DETERMINISTIC\n",
    "# BEGIN \n",
    "# DECLARE total_population INT ;SELECT SUM(population) INTO total_population\n",
    "# FROM census_clean WHERE district = district_name;\n",
    "# RETURN total_population;\n",
    "# END;\"\"\")\n",
    "# mycursor.execute(x21)\n",
    "# curr_x21 = mycursor.fetchall()\n",
    "# print(x21)\n",
    "\n",
    "x21a = \"SELECT get_population_district('Nalgonda');\"\n",
    "mycursor.execute(x21a)\n",
    "result = mycursor.fetchall()\n",
    "print(result)\n"
   ]
  },
  {
   "attachments": {},
   "cell_type": "markdown",
   "metadata": {},
   "source": [
    "FUNCTION FOR STATE/UT"
   ]
  },
  {
   "cell_type": "code",
   "execution_count": null,
   "metadata": {},
   "outputs": [
    {
     "name": "stdout",
     "output_type": "stream",
     "text": [
      "[(104099452,)]\n"
     ]
    }
   ],
   "source": [
    "# mycursor = mydb.cursor()\n",
    "# b21 = (\"\"\"CREATE FUNCTION Get_population(State_name VARCHAR(255))\n",
    "#  RETURNS INT \n",
    "#  DETERMINISTIC\n",
    "#  BEGIN \n",
    "#  DECLARE total_population INT ;SELECT SUM(population) INTO total_population\n",
    "#  FROM census_clean WHERE State_UT = State_name;\n",
    "#  RETURN total_population;\n",
    "#  END;\"\"\")\n",
    "\n",
    "# mycursor.execute(b21)\n",
    "# curr_b21 = mycursor.fetchall()\n",
    "# print(b21)\n",
    "\n",
    "b21b = \"SELECT get_population('Bihar');\"\n",
    "mycursor.execute(b21b)\n",
    "result = mycursor.fetchall()\n",
    "print(result)"
   ]
  },
  {
   "attachments": {},
   "cell_type": "markdown",
   "metadata": {},
   "source": [
    "Function For Senior citizens"
   ]
  },
  {
   "cell_type": "code",
   "execution_count": null,
   "metadata": {},
   "outputs": [
    {
     "name": "stdout",
     "output_type": "stream",
     "text": [
      "[(10632806,)]\n"
     ]
    }
   ],
   "source": [
    "# mycursor = mydb.cursor()\n",
    "# c21 = (\"\"\"CREATE FUNCTION Senior_Citizen_Population(state_name VARCHAR(255))\n",
    "#   RETURNS INT \n",
    "#   DETERMINISTIC\n",
    "#   BEGIN \n",
    "#   DECLARE total_senior_citizen INT ;SELECT SUM(Senior_Citizen) INTO total_senior_citizen \n",
    "#   FROM census_clean WHERE State_UT = State_name;\n",
    "#   RETURN total_senior_citizen ;\n",
    "#   END;\"\"\")\n",
    "\n",
    "# mycursor.execute(c21)\n",
    "# curr_c21 = mycursor.fetchall()\n",
    "# print(c21) \n",
    "\n",
    "c21c = \"SELECT Senior_Citizen_Population ('Karnataka');\"\n",
    "mycursor.execute(c21c)\n",
    "result = mycursor.fetchall()\n",
    "print(result)"
   ]
  },
  {
   "attachments": {},
   "cell_type": "markdown",
   "metadata": {},
   "source": [
    "Function For Total Number of government hospital beds in the State/UT"
   ]
  },
  {
   "cell_type": "code",
   "execution_count": null,
   "metadata": {},
   "outputs": [
    {
     "name": "stdout",
     "output_type": "stream",
     "text": [
      "[(70165,)]\n"
     ]
    }
   ],
   "source": [
    "# mycursor = mydb.cursor()\n",
    "# d21 = (\"\"\"CREATE FUNCTION get_govt_hospital_beds(state_name VARCHAR(255))\n",
    "#   RETURNS INT \n",
    "#   DETERMINISTIC\n",
    "#   BEGIN \n",
    "#   DECLARE total_government_hospital_beds INT ;\n",
    "#   SELECT SUM(Rural_Government_Beds+Urban_Government_Beds) INTO total_government_hospital_beds \n",
    "#   FROM government_hospital WHERE State_UT = State_name;\n",
    "#   RETURN total_government_hospital_beds ;\n",
    "#   END;\"\"\")\n",
    "\n",
    "# mycursor.execute(d21)\n",
    "# curr_d21 = mycursor.fetchall()\n",
    "# print(d21) \n",
    "\n",
    "d21d = \"SELECT get_govt_hospital_beds ('Karnataka');\"\n",
    "mycursor.execute(d21d)\n",
    "result = mycursor.fetchall()\n",
    "print(result)"
   ]
  },
  {
   "attachments": {},
   "cell_type": "markdown",
   "metadata": {},
   "source": [
    "Function For get_hospital_beds"
   ]
  },
  {
   "cell_type": "code",
   "execution_count": null,
   "metadata": {},
   "outputs": [
    {
     "name": "stdout",
     "output_type": "stream",
     "text": [
      "[(56333,)]\n"
     ]
    }
   ],
   "source": [
    "# mycursor = mydb.cursor()\n",
    "# e21 = (\"\"\"CREATE FUNCTION get_hospital_beds(state_name VARCHAR(255))\n",
    "#   RETURNS INT \n",
    "#   DETERMINISTIC\n",
    "#   BEGIN \n",
    "#   DECLARE total_hospital_beds INT ;\n",
    "#   SELECT SUM(HospitalBeds) INTO total_hospital_beds \n",
    "#   FROM all_hospitals WHERE State_UT = State_name;\n",
    "#   RETURN total_hospital_beds ;\n",
    "#   END;\"\"\")\n",
    "\n",
    "# mycursor.execute(e21)\n",
    "# curr_e21 = mycursor.fetchall()\n",
    "# print(e21) \n",
    "\n",
    "e21e = \"SELECT get_hospital_beds ('Karnataka');\"\n",
    "mycursor.execute(e21e)\n",
    "result = mycursor.fetchall()\n",
    "print(result)"
   ]
  },
  {
   "attachments": {},
   "cell_type": "markdown",
   "metadata": {},
   "source": [
    "Function For Total Number of hospital beds per 1 lakh people"
   ]
  },
  {
   "cell_type": "code",
   "execution_count": null,
   "metadata": {},
   "outputs": [
    {
     "name": "stdout",
     "output_type": "stream",
     "text": [
      "[(101,)]\n"
     ]
    }
   ],
   "source": [
    "# mycursor = mydb.cursor()\n",
    "# f21 = (\"\"\"CREATE FUNCTION beds_per_lakh(state_name VARCHAR(255))\n",
    "#   RETURNS INT \n",
    "#   DETERMINISTIC\n",
    "#   BEGIN \n",
    "#   DECLARE total_hospital_beds_per1lak INT ;\n",
    "#   SELECT ((hosp.HospitalBeds/sum(cen.population))*100000) INTO total_hospital_beds_per1lak\n",
    "#   FROM all_hospitals as hosp\n",
    "#   join Census_clean as cen\n",
    "#   on cen.State_UT = hosp.State_UT\n",
    "#   WHERE cen.State_UT = State_name \n",
    "#   group by cen.State_UT, hosp.HospitalBeds;\n",
    "#   RETURN total_hospital_beds_per1lak ;\n",
    "#   END;\"\"\")\n",
    "\n",
    "# mycursor.execute(f21)\n",
    "# curr_f21 = mycursor.fetchall()\n",
    "# print(f21) \n",
    "\n",
    "f21f = \"SELECT beds_per_lakh ('Tamil Nadu');\"\n",
    "mycursor.execute(f21f)\n",
    "result = mycursor.fetchall()\n",
    "print(result)"
   ]
  },
  {
   "attachments": {},
   "cell_type": "markdown",
   "metadata": {},
   "source": [
    "Function For gov_beds_per_lakh"
   ]
  },
  {
   "attachments": {},
   "cell_type": "markdown",
   "metadata": {},
   "source": []
  },
  {
   "cell_type": "code",
   "execution_count": 2,
   "metadata": {},
   "outputs": [],
   "source": [
    "\n",
    "\n",
    "g21 = ('''\n",
    "CREATE FUNCTION govt_beds_per_lakh(state VARCHAR(255)) \n",
    "RETURNS INT\n",
    "DETERMINISTIC \n",
    "BEGIN \n",
    "  DECLARE total_beds_per_lakh INT;  \n",
    "  SELECT ROUND(((g.rural_government_beds+g.urban_government_beds))/(c.population )*100000) INTO total_beds_per_lakh\n",
    "  FROM government_hospital g\n",
    "  JOIN (\n",
    "        SELECT State_UT, SUM(population) AS population FROM census_clean \n",
    "        GROUP BY State_UT\n",
    "      ) c\n",
    "  ON c.State_UT=g.State_UT\n",
    "  WHERE c.State_UT=state;\n",
    "  RETURN total_beds_per_lakh;\n",
    "END;\n",
    "''')\n",
    "\n",
    "\n",
    "# mycursor.execute(g21)\n",
    "\n"
   ]
  },
  {
   "cell_type": "code",
   "execution_count": 3,
   "metadata": {},
   "outputs": [
    {
     "ename": "NameError",
     "evalue": "name 'mycursor' is not defined",
     "output_type": "error",
     "traceback": [
      "\u001b[1;31m---------------------------------------------------------------------------\u001b[0m",
      "\u001b[1;31mNameError\u001b[0m                                 Traceback (most recent call last)",
      "Cell \u001b[1;32mIn[3], line 2\u001b[0m\n\u001b[0;32m      1\u001b[0m \u001b[39m# mycursor.nextset()\u001b[39;00m\n\u001b[1;32m----> 2\u001b[0m mycursor\u001b[39m.\u001b[39mexecute(g21)\n\u001b[0;32m      3\u001b[0m \u001b[39m# mycursor.nextset()\u001b[39;00m\n\u001b[0;32m      4\u001b[0m \n\u001b[0;32m      5\u001b[0m \u001b[39m# mycursor = mydb.cursor()\u001b[39;00m\n\u001b[0;32m      6\u001b[0m g21g \u001b[39m=\u001b[39m \u001b[39m\"\u001b[39m\u001b[39mSELECT govt_beds_per_lakh(\u001b[39m\u001b[39m'\u001b[39m\u001b[39mBihar\u001b[39m\u001b[39m'\u001b[39m\u001b[39m);\u001b[39m\u001b[39m\"\u001b[39m\n",
      "\u001b[1;31mNameError\u001b[0m: name 'mycursor' is not defined"
     ]
    }
   ],
   "source": [
    "# mycursor.nextset()\n",
    "mycursor.execute(g21)\n",
    "# mycursor.nextset()\n",
    "\n",
    "# mycursor = mydb.cursor()\n",
    "g21g = \"SELECT govt_beds_per_lakh('Bihar');\"\n",
    "# mycursor.nextset()\n",
    "mycursor.execute(g21g)\n",
    "result = mycursor.fetchall()\n",
    "\n",
    "print(result[0])\n"
   ]
  },
  {
   "attachments": {},
   "cell_type": "markdown",
   "metadata": {},
   "source": [
    "Problem Statement 22: \n",
    "It was reported* that in the north-eastern states, senior citizens are facing some issues in getting beds in a government hospital. Amir, from the department of healthcare, has requested a report on the healthcare situation in the north-eastern states.\n",
    "\n",
    "The north-eastern states are listed in (Data/north_east_states.txt). Read the file and extract the state names using python and write a query to find the following information about those states from the database. Use the stored functions created earlier wherever relevant.\n",
    "State Name\n",
    "Population\n",
    "Senior Citizen Population\n",
    "Number of Government Hospital\n",
    "Number of Government Hospital Beds\n",
    "Number of Government Hospital beds for 1 Lakh population \n",
    "(Round the number to the nearest integer)\n",
    "Number of Government Hospital beds for 1 Lakh senior citizen\n",
    "(Round the number to the nearest integer)\n",
    "\n",
    "The rows should be sorted by the number of Government Hospital beds for 1 Lakh senior citizens in ascending order.\n"
   ]
  },
  {
   "cell_type": "code",
   "execution_count": 6,
   "metadata": {},
   "outputs": [
    {
     "name": "stdout",
     "output_type": "stream",
     "text": [
      "[('Manipur', 2855794, 409796, 270.0, 1427, 50, 348.44), ('Assam', 31205576, 4127732, 33102.0, 17142, 55, 415.8), ('Tripura', 3673917, 568604, 620.0, 4417, 120, 775.36), ('Nagaland', 1978502, 211983, 396.0, 1880, 95, 886.66), ('Mizoram', 1097206, 144061, 720.0, 1997, 182, 1386.16), ('Meghalaya', 2966889, 287754, 1099.0, 4457, 150, 1546.58), ('Arunachal Pradesh', 1383727, 139635, 3488.0, 2404, 174, 1724.27)]\n"
     ]
    }
   ],
   "source": [
    "north_east_states = pd.read_csv('../cleandata/NorthEast.csv',header=None)\n",
    "north_east_states = north_east_states.squeeze()\n",
    "north_east_states= tuple(north_east_states)\n",
    "\n",
    "query22= f\"select State_UT as State_Name,  get_population(State_UT) as Population, senior_citizen_population(State_UT) as Senior_Citizen_Population, sum((Rural_Government_Hospitals+Urban_Government_Hospitals)) as Number_of_Government_Hospitals, get_govt_hospital_beds(State_UT) as Number_of_Gov_Hospital_Beds, govt_beds_per_lakh(State_UT) as Number_of_Gov_Hospital_Beds_per_1_lakh,  round(govt_beds_per_lakh(State_UT)*sum(population)/senior_citizen_population(State_UT),2) as Number_of_Gov_Hospital_Beds_for_1_lakh_senior_citizen   from Mergedtable where State_UT in {north_east_states} group by State_UT order by govt_beds_per_lakh(State_UT)*sum(population)/senior_citizen_population(State_UT);\"\n",
    "\n",
    "mycursor.execute(\"COMMIT\")\n",
    "mycursor.execute(query22)\n",
    "result = mycursor.fetchall()\n",
    "\n",
    "print(result)\n",
    "\n",
    "\n",
    "\n",
    "\n"
   ]
  },
  {
   "cell_type": "code",
   "execution_count": 7,
   "metadata": {},
   "outputs": [
    {
     "data": {
      "text/html": [
       "<div>\n",
       "<style scoped>\n",
       "    .dataframe tbody tr th:only-of-type {\n",
       "        vertical-align: middle;\n",
       "    }\n",
       "\n",
       "    .dataframe tbody tr th {\n",
       "        vertical-align: top;\n",
       "    }\n",
       "\n",
       "    .dataframe thead th {\n",
       "        text-align: right;\n",
       "    }\n",
       "</style>\n",
       "<table border=\"1\" class=\"dataframe\">\n",
       "  <thead>\n",
       "    <tr style=\"text-align: right;\">\n",
       "      <th></th>\n",
       "      <th>State_UT</th>\n",
       "      <th>Population</th>\n",
       "      <th>Senior_Citizen</th>\n",
       "      <th>Num_Govt_Hospitals</th>\n",
       "      <th>Num_Govt_Hospital_Beds</th>\n",
       "      <th>Num_Beds_Per_100k_Population</th>\n",
       "      <th>Num_Beds_Per_100k_Senior_Citizen</th>\n",
       "    </tr>\n",
       "  </thead>\n",
       "  <tbody>\n",
       "    <tr>\n",
       "      <th>0</th>\n",
       "      <td>Manipur</td>\n",
       "      <td>2855794</td>\n",
       "      <td>409796</td>\n",
       "      <td>270.0</td>\n",
       "      <td>1427</td>\n",
       "      <td>50</td>\n",
       "      <td>348.44</td>\n",
       "    </tr>\n",
       "    <tr>\n",
       "      <th>1</th>\n",
       "      <td>Assam</td>\n",
       "      <td>31205576</td>\n",
       "      <td>4127732</td>\n",
       "      <td>33102.0</td>\n",
       "      <td>17142</td>\n",
       "      <td>55</td>\n",
       "      <td>415.80</td>\n",
       "    </tr>\n",
       "    <tr>\n",
       "      <th>2</th>\n",
       "      <td>Tripura</td>\n",
       "      <td>3673917</td>\n",
       "      <td>568604</td>\n",
       "      <td>620.0</td>\n",
       "      <td>4417</td>\n",
       "      <td>120</td>\n",
       "      <td>775.36</td>\n",
       "    </tr>\n",
       "    <tr>\n",
       "      <th>3</th>\n",
       "      <td>Nagaland</td>\n",
       "      <td>1978502</td>\n",
       "      <td>211983</td>\n",
       "      <td>396.0</td>\n",
       "      <td>1880</td>\n",
       "      <td>95</td>\n",
       "      <td>886.66</td>\n",
       "    </tr>\n",
       "    <tr>\n",
       "      <th>4</th>\n",
       "      <td>Mizoram</td>\n",
       "      <td>1097206</td>\n",
       "      <td>144061</td>\n",
       "      <td>720.0</td>\n",
       "      <td>1997</td>\n",
       "      <td>182</td>\n",
       "      <td>1386.16</td>\n",
       "    </tr>\n",
       "    <tr>\n",
       "      <th>5</th>\n",
       "      <td>Meghalaya</td>\n",
       "      <td>2966889</td>\n",
       "      <td>287754</td>\n",
       "      <td>1099.0</td>\n",
       "      <td>4457</td>\n",
       "      <td>150</td>\n",
       "      <td>1546.58</td>\n",
       "    </tr>\n",
       "    <tr>\n",
       "      <th>6</th>\n",
       "      <td>Arunachal Pradesh</td>\n",
       "      <td>1383727</td>\n",
       "      <td>139635</td>\n",
       "      <td>3488.0</td>\n",
       "      <td>2404</td>\n",
       "      <td>174</td>\n",
       "      <td>1724.27</td>\n",
       "    </tr>\n",
       "  </tbody>\n",
       "</table>\n",
       "</div>"
      ],
      "text/plain": [
       "            State_UT  Population  Senior_Citizen  Num_Govt_Hospitals  \\\n",
       "0            Manipur     2855794          409796               270.0   \n",
       "1              Assam    31205576         4127732             33102.0   \n",
       "2            Tripura     3673917          568604               620.0   \n",
       "3           Nagaland     1978502          211983               396.0   \n",
       "4            Mizoram     1097206          144061               720.0   \n",
       "5          Meghalaya     2966889          287754              1099.0   \n",
       "6  Arunachal Pradesh     1383727          139635              3488.0   \n",
       "\n",
       "   Num_Govt_Hospital_Beds  Num_Beds_Per_100k_Population  \\\n",
       "0                    1427                            50   \n",
       "1                   17142                            55   \n",
       "2                    4417                           120   \n",
       "3                    1880                            95   \n",
       "4                    1997                           182   \n",
       "5                    4457                           150   \n",
       "6                    2404                           174   \n",
       "\n",
       "   Num_Beds_Per_100k_Senior_Citizen  \n",
       "0                            348.44  \n",
       "1                            415.80  \n",
       "2                            775.36  \n",
       "3                            886.66  \n",
       "4                           1386.16  \n",
       "5                           1546.58  \n",
       "6                           1724.27  "
      ]
     },
     "execution_count": 7,
     "metadata": {},
     "output_type": "execute_result"
    }
   ],
   "source": [
    "df = pd.DataFrame(result, columns=['State_UT','Population','Senior_Citizen','Num_Govt_Hospitals','Num_Govt_Hospital_Beds','Num_Beds_Per_100k_Population','Num_Beds_Per_100k_Senior_Citizen'])\n",
    "df"
   ]
  },
  {
   "cell_type": "markdown",
   "metadata": {},
   "source": [
    "Problem Statement 23: \n",
    "The Government wants to run a scheme that would help people build in-premise toilets. \n",
    "For that purpose, a secretary has requested a district-wise report using the census data.\n",
    "\n",
    "Using a stored procedure, Create a district-wise report that shows the total population of each district, the total number of households in the district, the number of households that do NOT have on-premise toilets, and the percentage of the number of households that do NOT toilets in premise to the total number of households. Sort the data in a way that is most useful for the secretary.\n"
   ]
  },
  {
   "cell_type": "code",
   "execution_count": 10,
   "metadata": {},
   "outputs": [
    {
     "ename": "ProgrammingError",
     "evalue": "1304 (42000): PROCEDURE not_on_premise already exists",
     "output_type": "error",
     "traceback": [
      "\u001b[1;31m---------------------------------------------------------------------------\u001b[0m",
      "\u001b[1;31mMySQLInterfaceError\u001b[0m                       Traceback (most recent call last)",
      "File \u001b[1;32mc:\\Users\\Miles\\AppData\\Local\\Programs\\Python\\Python311\\Lib\\site-packages\\mysql\\connector\\connection_cext.py:608\u001b[0m, in \u001b[0;36mCMySQLConnection.cmd_query\u001b[1;34m(self, query, raw, buffered, raw_as_string)\u001b[0m\n\u001b[0;32m    607\u001b[0m         query \u001b[39m=\u001b[39m query\u001b[39m.\u001b[39mencode(\u001b[39m\"\u001b[39m\u001b[39mutf-8\u001b[39m\u001b[39m\"\u001b[39m)\n\u001b[1;32m--> 608\u001b[0m     \u001b[39mself\u001b[39;49m\u001b[39m.\u001b[39;49m_cmysql\u001b[39m.\u001b[39;49mquery(\n\u001b[0;32m    609\u001b[0m         query,\n\u001b[0;32m    610\u001b[0m         raw\u001b[39m=\u001b[39;49mraw,\n\u001b[0;32m    611\u001b[0m         buffered\u001b[39m=\u001b[39;49mbuffered,\n\u001b[0;32m    612\u001b[0m         raw_as_string\u001b[39m=\u001b[39;49mraw_as_string,\n\u001b[0;32m    613\u001b[0m         query_attrs\u001b[39m=\u001b[39;49m\u001b[39mself\u001b[39;49m\u001b[39m.\u001b[39;49m_query_attrs,\n\u001b[0;32m    614\u001b[0m     )\n\u001b[0;32m    615\u001b[0m \u001b[39mexcept\u001b[39;00m MySQLInterfaceError \u001b[39mas\u001b[39;00m err:\n",
      "\u001b[1;31mMySQLInterfaceError\u001b[0m: PROCEDURE not_on_premise already exists",
      "\nThe above exception was the direct cause of the following exception:\n",
      "\u001b[1;31mProgrammingError\u001b[0m                          Traceback (most recent call last)",
      "Cell \u001b[1;32mIn[10], line 5\u001b[0m\n\u001b[0;32m      1\u001b[0m query23 \u001b[39m=\u001b[39m (\u001b[39m\"\"\"\u001b[39m\n\u001b[0;32m      2\u001b[0m \u001b[39m   CREATE PROCEDURE not_on_premise(districts varchar(30)) begin select District,(Households_Rural+Households_Urban)-(Households_Rural_Toilet_Premise+Households_Urban_Toilet_Premise) as no_on_premise from housing where District=districts; END;\u001b[39m\u001b[39m'\u001b[39m\n\u001b[0;32m      3\u001b[0m \u001b[39m\"\"\"\u001b[39m)\n\u001b[0;32m      4\u001b[0m mycursor\u001b[39m.\u001b[39mexecute(\u001b[39m\"\u001b[39m\u001b[39mCOMMIT\u001b[39m\u001b[39m\"\u001b[39m)\n\u001b[1;32m----> 5\u001b[0m mycursor\u001b[39m.\u001b[39;49mexecute(query23)\n\u001b[0;32m      6\u001b[0m result \u001b[39m=\u001b[39m mycursor\u001b[39m.\u001b[39mfetchall()\n\u001b[0;32m      8\u001b[0m \u001b[39mprint\u001b[39m(result)\n",
      "File \u001b[1;32mc:\\Users\\Miles\\AppData\\Local\\Programs\\Python\\Python311\\Lib\\site-packages\\mysql\\connector\\cursor_cext.py:330\u001b[0m, in \u001b[0;36mCMySQLCursor.execute\u001b[1;34m(self, operation, params, multi)\u001b[0m\n\u001b[0;32m    325\u001b[0m             \u001b[39mraise\u001b[39;00m ProgrammingError(\n\u001b[0;32m    326\u001b[0m                 \u001b[39m\"\u001b[39m\u001b[39mNot all parameters were used in the SQL statement\u001b[39m\u001b[39m\"\u001b[39m\n\u001b[0;32m    327\u001b[0m             )\n\u001b[0;32m    329\u001b[0m \u001b[39mtry\u001b[39;00m:\n\u001b[1;32m--> 330\u001b[0m     result \u001b[39m=\u001b[39m \u001b[39mself\u001b[39;49m\u001b[39m.\u001b[39;49m_cnx\u001b[39m.\u001b[39;49mcmd_query(\n\u001b[0;32m    331\u001b[0m         stmt,\n\u001b[0;32m    332\u001b[0m         raw\u001b[39m=\u001b[39;49m\u001b[39mself\u001b[39;49m\u001b[39m.\u001b[39;49m_raw,\n\u001b[0;32m    333\u001b[0m         buffered\u001b[39m=\u001b[39;49m\u001b[39mself\u001b[39;49m\u001b[39m.\u001b[39;49m_buffered,\n\u001b[0;32m    334\u001b[0m         raw_as_string\u001b[39m=\u001b[39;49m\u001b[39mself\u001b[39;49m\u001b[39m.\u001b[39;49m_raw_as_string,\n\u001b[0;32m    335\u001b[0m     )\n\u001b[0;32m    336\u001b[0m \u001b[39mexcept\u001b[39;00m MySQLInterfaceError \u001b[39mas\u001b[39;00m err:\n\u001b[0;32m    337\u001b[0m     \u001b[39mraise\u001b[39;00m get_mysql_exception(\n\u001b[0;32m    338\u001b[0m         msg\u001b[39m=\u001b[39merr\u001b[39m.\u001b[39mmsg, errno\u001b[39m=\u001b[39merr\u001b[39m.\u001b[39merrno, sqlstate\u001b[39m=\u001b[39merr\u001b[39m.\u001b[39msqlstate\n\u001b[0;32m    339\u001b[0m     ) \u001b[39mfrom\u001b[39;00m \u001b[39merr\u001b[39;00m\n",
      "File \u001b[1;32mc:\\Users\\Miles\\AppData\\Local\\Programs\\Python\\Python311\\Lib\\site-packages\\mysql\\connector\\connection_cext.py:616\u001b[0m, in \u001b[0;36mCMySQLConnection.cmd_query\u001b[1;34m(self, query, raw, buffered, raw_as_string)\u001b[0m\n\u001b[0;32m    608\u001b[0m     \u001b[39mself\u001b[39m\u001b[39m.\u001b[39m_cmysql\u001b[39m.\u001b[39mquery(\n\u001b[0;32m    609\u001b[0m         query,\n\u001b[0;32m    610\u001b[0m         raw\u001b[39m=\u001b[39mraw,\n\u001b[1;32m   (...)\u001b[0m\n\u001b[0;32m    613\u001b[0m         query_attrs\u001b[39m=\u001b[39m\u001b[39mself\u001b[39m\u001b[39m.\u001b[39m_query_attrs,\n\u001b[0;32m    614\u001b[0m     )\n\u001b[0;32m    615\u001b[0m \u001b[39mexcept\u001b[39;00m MySQLInterfaceError \u001b[39mas\u001b[39;00m err:\n\u001b[1;32m--> 616\u001b[0m     \u001b[39mraise\u001b[39;00m get_mysql_exception(\n\u001b[0;32m    617\u001b[0m         err\u001b[39m.\u001b[39merrno, msg\u001b[39m=\u001b[39merr\u001b[39m.\u001b[39mmsg, sqlstate\u001b[39m=\u001b[39merr\u001b[39m.\u001b[39msqlstate\n\u001b[0;32m    618\u001b[0m     ) \u001b[39mfrom\u001b[39;00m \u001b[39merr\u001b[39;00m\n\u001b[0;32m    619\u001b[0m \u001b[39mexcept\u001b[39;00m \u001b[39mAttributeError\u001b[39;00m \u001b[39mas\u001b[39;00m err:\n\u001b[0;32m    620\u001b[0m     addr \u001b[39m=\u001b[39m (\n\u001b[0;32m    621\u001b[0m         \u001b[39mself\u001b[39m\u001b[39m.\u001b[39m_unix_socket \u001b[39mif\u001b[39;00m \u001b[39mself\u001b[39m\u001b[39m.\u001b[39m_unix_socket \u001b[39melse\u001b[39;00m \u001b[39mf\u001b[39m\u001b[39m\"\u001b[39m\u001b[39m{\u001b[39;00m\u001b[39mself\u001b[39m\u001b[39m.\u001b[39m_host\u001b[39m}\u001b[39;00m\u001b[39m:\u001b[39m\u001b[39m{\u001b[39;00m\u001b[39mself\u001b[39m\u001b[39m.\u001b[39m_port\u001b[39m}\u001b[39;00m\u001b[39m\"\u001b[39m\n\u001b[0;32m    622\u001b[0m     )\n",
      "\u001b[1;31mProgrammingError\u001b[0m: 1304 (42000): PROCEDURE not_on_premise already exists"
     ]
    }
   ],
   "source": [
    "query23 = (\"\"\"\n",
    "   CREATE PROCEDURE not_on_premise(districts varchar(30)) begin select District,(Households_Rural+Households_Urban)-(Households_Rural_Toilet_Premise+Households_Urban_Toilet_Premise) as no_on_premise from housing where District=districts; END;'\n",
    "\"\"\")\n",
    "mycursor.execute(\"COMMIT\")\n",
    "mycursor.execute(query23)\n",
    "result = mycursor.fetchall()\n",
    "\n",
    "print(result)\n"
   ]
  },
  {
   "cell_type": "markdown",
   "metadata": {},
   "source": []
  },
  {
   "cell_type": "code",
   "execution_count": 11,
   "metadata": {},
   "outputs": [
    {
     "name": "stdout",
     "output_type": "stream",
     "text": [
      "[]\n"
     ]
    }
   ],
   "source": [
    "query24 =(\"\"\"CREATE PROCEDURE relationship(district VARCHAR(30))\n",
    "BEGIN\n",
    "    SELECT c.District, c.Population,\n",
    "           ROUND((h.Households_Rural_Livable + h.Households_Urban_Livable) / (c.Population / 1000), 2) AS Livable_Houses_per_1000,\n",
    "           ROUND(h.Households_Urban_Dilapidated / (c.Population / 1000), 2) AS Dilapidated_Households_per_1000\n",
    "    FROM census_clean c\n",
    "    JOIN housing h ON c.State_UT = h.State_UT AND c.District = h.District\n",
    "    WHERE c.District = district;\n",
    "END;\"\"\")\n",
    "mycursor.execute(\"COMMIT\")\n",
    "mycursor.execute(query24)\n",
    "result = mycursor.fetchall()\n",
    "\n",
    "print(result)\n"
   ]
  },
  {
   "attachments": {},
   "cell_type": "markdown",
   "metadata": {},
   "source": [
    "Problem Statement 25: \n",
    "The rural development department has requested a report on the healthcare situation in rural areas as compared to urban areas.\n",
    "Write a query to find the number of hospital beds and government hospital beds per 1 lakh people for rural and urban areas separately for each state, along with the difference between them. \n"
   ]
  },
  {
   "cell_type": "code",
   "execution_count": 31,
   "metadata": {},
   "outputs": [
    {
     "name": "stdout",
     "output_type": "stream",
     "text": [
      "[('Andhra Pradesh', 72.0, 8.0, 20.0, 12.0), ('Arunachal Pradesh', 168.0, 154.0, 19.0, -135.0), ('Assam', 61.0, 35.0, 20.0, -15.0), ('Bihar', 17.0, 6.0, 6.0, -0.0), ('Chandigarh', 356.0, 0.0, 74.0, 74.0), ('Chhattisgarh', 56.0, 20.0, 17.0, -3.0), ('Goa', 183.0, 96.0, 110.0, 14.0), ('Gujarat', 68.0, 19.0, 34.0, 15.0), ('Haryana', 55.0, 26.0, 18.0, -8.0), ('Himachal Pradesh', 127.0, 83.0, 98.0, 16.0), ('Jharkhand', 22.0, 18.0, 15.0, -3.0), ('Karnataka', 92.0, 35.0, 80.0, 46.0), ('Kerala', 118.0, 50.0, 63.0, 13.0), ('Lakshadweep', 388.0, 465.0, 0.0, -465.0), ('Madhya Pradesh', 53.0, 14.0, 26.0, 12.0), ('Maharashtra', 61.0, 11.0, 35.0, 24.0), ('Manipur', 90.0, 26.0, 24.0, -1.0), ('Meghalaya', 155.0, 66.0, 84.0, 17.0), ('Mizoram', 211.0, 55.0, 127.0, 72.0), ('Nagaland', 98.0, 32.0, 63.0, 31.0), ('Punjab', 49.0, 21.0, 44.0, 23.0), ('Rajasthan', 76.0, 31.0, 16.0, -15.0), ('Sikkim', 188.0, 43.0, 213.0, 170.0), ('Tamil Nadu', 101.0, 56.0, 52.0, -4.0), ('Tripura', 133.0, 31.0, 89.0, 58.0), ('Uttar Pradesh', 29.0, 20.0, 19.0, -1.0), ('Uttarakhand', 66.0, 33.0, 52.0, 19.0), ('West Bengal', 56.0, 22.0, 65.0, 43.0)]\n"
     ]
    }
   ],
   "source": [
    "query25 =(\"\"\"SELECT c.State_UT,\n",
    "       ROUND((h.HospitalBeds) / SUM(c.Population) * 100000) AS Hospital_Beds_per_1L_People,\n",
    "       ROUND(g.Rural_Government_Beds / SUM(c.Population) * 100000) AS Rural_Government_Hospital_Beds_per_1L_People,\n",
    "       ROUND(g.Urban_Government_Beds / SUM(c.Population) * 100000) AS Urban_Government_Hospital_Beds_per_1L_People,\n",
    "       ROUND((g.Urban_Government_Beds - g.Rural_Government_Beds) / SUM(c.Population) * 100000) AS Difference_Government_Hospital_Beds_per_1L_People\n",
    "FROM census_clean c\n",
    "JOIN all_hospitals h ON c.State_UT = h.State_UT\n",
    "JOIN government_hospital g ON c.State_UT = g.State_UT\n",
    "GROUP BY c.State_UT, g.Rural_Government_Beds, g.Urban_Government_Beds,h.HospitalBeds;\"\"\")\n",
    "mycursor.execute(\"COMMIT\")\n",
    "mycursor.execute(query25)\n",
    "result = mycursor.fetchall()\n",
    "\n",
    "print(result)\n"
   ]
  },
  {
   "cell_type": "code",
   "execution_count": 32,
   "metadata": {},
   "outputs": [
    {
     "data": {
      "text/html": [
       "<div>\n",
       "<style scoped>\n",
       "    .dataframe tbody tr th:only-of-type {\n",
       "        vertical-align: middle;\n",
       "    }\n",
       "\n",
       "    .dataframe tbody tr th {\n",
       "        vertical-align: top;\n",
       "    }\n",
       "\n",
       "    .dataframe thead th {\n",
       "        text-align: right;\n",
       "    }\n",
       "</style>\n",
       "<table border=\"1\" class=\"dataframe\">\n",
       "  <thead>\n",
       "    <tr style=\"text-align: right;\">\n",
       "      <th></th>\n",
       "      <th>State_UT</th>\n",
       "      <th>Hospital_Beds_per_1L_People</th>\n",
       "      <th>Rural_Government_Hospital_Beds_per_1L_People</th>\n",
       "      <th>Urban_Government_Hospital_Beds_per_1L_People</th>\n",
       "      <th>Difference_Government_Hospital_Beds_per_1L_People</th>\n",
       "    </tr>\n",
       "  </thead>\n",
       "  <tbody>\n",
       "    <tr>\n",
       "      <th>0</th>\n",
       "      <td>Andhra Pradesh</td>\n",
       "      <td>72.0</td>\n",
       "      <td>8.0</td>\n",
       "      <td>20.0</td>\n",
       "      <td>12.0</td>\n",
       "    </tr>\n",
       "    <tr>\n",
       "      <th>1</th>\n",
       "      <td>Arunachal Pradesh</td>\n",
       "      <td>168.0</td>\n",
       "      <td>154.0</td>\n",
       "      <td>19.0</td>\n",
       "      <td>-135.0</td>\n",
       "    </tr>\n",
       "    <tr>\n",
       "      <th>2</th>\n",
       "      <td>Assam</td>\n",
       "      <td>61.0</td>\n",
       "      <td>35.0</td>\n",
       "      <td>20.0</td>\n",
       "      <td>-15.0</td>\n",
       "    </tr>\n",
       "    <tr>\n",
       "      <th>3</th>\n",
       "      <td>Bihar</td>\n",
       "      <td>17.0</td>\n",
       "      <td>6.0</td>\n",
       "      <td>6.0</td>\n",
       "      <td>-0.0</td>\n",
       "    </tr>\n",
       "    <tr>\n",
       "      <th>4</th>\n",
       "      <td>Chandigarh</td>\n",
       "      <td>356.0</td>\n",
       "      <td>0.0</td>\n",
       "      <td>74.0</td>\n",
       "      <td>74.0</td>\n",
       "    </tr>\n",
       "    <tr>\n",
       "      <th>5</th>\n",
       "      <td>Chhattisgarh</td>\n",
       "      <td>56.0</td>\n",
       "      <td>20.0</td>\n",
       "      <td>17.0</td>\n",
       "      <td>-3.0</td>\n",
       "    </tr>\n",
       "    <tr>\n",
       "      <th>6</th>\n",
       "      <td>Goa</td>\n",
       "      <td>183.0</td>\n",
       "      <td>96.0</td>\n",
       "      <td>110.0</td>\n",
       "      <td>14.0</td>\n",
       "    </tr>\n",
       "    <tr>\n",
       "      <th>7</th>\n",
       "      <td>Gujarat</td>\n",
       "      <td>68.0</td>\n",
       "      <td>19.0</td>\n",
       "      <td>34.0</td>\n",
       "      <td>15.0</td>\n",
       "    </tr>\n",
       "    <tr>\n",
       "      <th>8</th>\n",
       "      <td>Haryana</td>\n",
       "      <td>55.0</td>\n",
       "      <td>26.0</td>\n",
       "      <td>18.0</td>\n",
       "      <td>-8.0</td>\n",
       "    </tr>\n",
       "    <tr>\n",
       "      <th>9</th>\n",
       "      <td>Himachal Pradesh</td>\n",
       "      <td>127.0</td>\n",
       "      <td>83.0</td>\n",
       "      <td>98.0</td>\n",
       "      <td>16.0</td>\n",
       "    </tr>\n",
       "    <tr>\n",
       "      <th>10</th>\n",
       "      <td>Jharkhand</td>\n",
       "      <td>22.0</td>\n",
       "      <td>18.0</td>\n",
       "      <td>15.0</td>\n",
       "      <td>-3.0</td>\n",
       "    </tr>\n",
       "    <tr>\n",
       "      <th>11</th>\n",
       "      <td>Karnataka</td>\n",
       "      <td>92.0</td>\n",
       "      <td>35.0</td>\n",
       "      <td>80.0</td>\n",
       "      <td>46.0</td>\n",
       "    </tr>\n",
       "    <tr>\n",
       "      <th>12</th>\n",
       "      <td>Kerala</td>\n",
       "      <td>118.0</td>\n",
       "      <td>50.0</td>\n",
       "      <td>63.0</td>\n",
       "      <td>13.0</td>\n",
       "    </tr>\n",
       "    <tr>\n",
       "      <th>13</th>\n",
       "      <td>Lakshadweep</td>\n",
       "      <td>388.0</td>\n",
       "      <td>465.0</td>\n",
       "      <td>0.0</td>\n",
       "      <td>-465.0</td>\n",
       "    </tr>\n",
       "    <tr>\n",
       "      <th>14</th>\n",
       "      <td>Madhya Pradesh</td>\n",
       "      <td>53.0</td>\n",
       "      <td>14.0</td>\n",
       "      <td>26.0</td>\n",
       "      <td>12.0</td>\n",
       "    </tr>\n",
       "    <tr>\n",
       "      <th>15</th>\n",
       "      <td>Maharashtra</td>\n",
       "      <td>61.0</td>\n",
       "      <td>11.0</td>\n",
       "      <td>35.0</td>\n",
       "      <td>24.0</td>\n",
       "    </tr>\n",
       "    <tr>\n",
       "      <th>16</th>\n",
       "      <td>Manipur</td>\n",
       "      <td>90.0</td>\n",
       "      <td>26.0</td>\n",
       "      <td>24.0</td>\n",
       "      <td>-1.0</td>\n",
       "    </tr>\n",
       "    <tr>\n",
       "      <th>17</th>\n",
       "      <td>Meghalaya</td>\n",
       "      <td>155.0</td>\n",
       "      <td>66.0</td>\n",
       "      <td>84.0</td>\n",
       "      <td>17.0</td>\n",
       "    </tr>\n",
       "    <tr>\n",
       "      <th>18</th>\n",
       "      <td>Mizoram</td>\n",
       "      <td>211.0</td>\n",
       "      <td>55.0</td>\n",
       "      <td>127.0</td>\n",
       "      <td>72.0</td>\n",
       "    </tr>\n",
       "    <tr>\n",
       "      <th>19</th>\n",
       "      <td>Nagaland</td>\n",
       "      <td>98.0</td>\n",
       "      <td>32.0</td>\n",
       "      <td>63.0</td>\n",
       "      <td>31.0</td>\n",
       "    </tr>\n",
       "    <tr>\n",
       "      <th>20</th>\n",
       "      <td>Punjab</td>\n",
       "      <td>49.0</td>\n",
       "      <td>21.0</td>\n",
       "      <td>44.0</td>\n",
       "      <td>23.0</td>\n",
       "    </tr>\n",
       "    <tr>\n",
       "      <th>21</th>\n",
       "      <td>Rajasthan</td>\n",
       "      <td>76.0</td>\n",
       "      <td>31.0</td>\n",
       "      <td>16.0</td>\n",
       "      <td>-15.0</td>\n",
       "    </tr>\n",
       "    <tr>\n",
       "      <th>22</th>\n",
       "      <td>Sikkim</td>\n",
       "      <td>188.0</td>\n",
       "      <td>43.0</td>\n",
       "      <td>213.0</td>\n",
       "      <td>170.0</td>\n",
       "    </tr>\n",
       "    <tr>\n",
       "      <th>23</th>\n",
       "      <td>Tamil Nadu</td>\n",
       "      <td>101.0</td>\n",
       "      <td>56.0</td>\n",
       "      <td>52.0</td>\n",
       "      <td>-4.0</td>\n",
       "    </tr>\n",
       "    <tr>\n",
       "      <th>24</th>\n",
       "      <td>Tripura</td>\n",
       "      <td>133.0</td>\n",
       "      <td>31.0</td>\n",
       "      <td>89.0</td>\n",
       "      <td>58.0</td>\n",
       "    </tr>\n",
       "    <tr>\n",
       "      <th>25</th>\n",
       "      <td>Uttar Pradesh</td>\n",
       "      <td>29.0</td>\n",
       "      <td>20.0</td>\n",
       "      <td>19.0</td>\n",
       "      <td>-1.0</td>\n",
       "    </tr>\n",
       "    <tr>\n",
       "      <th>26</th>\n",
       "      <td>Uttarakhand</td>\n",
       "      <td>66.0</td>\n",
       "      <td>33.0</td>\n",
       "      <td>52.0</td>\n",
       "      <td>19.0</td>\n",
       "    </tr>\n",
       "    <tr>\n",
       "      <th>27</th>\n",
       "      <td>West Bengal</td>\n",
       "      <td>56.0</td>\n",
       "      <td>22.0</td>\n",
       "      <td>65.0</td>\n",
       "      <td>43.0</td>\n",
       "    </tr>\n",
       "  </tbody>\n",
       "</table>\n",
       "</div>"
      ],
      "text/plain": [
       "             State_UT  Hospital_Beds_per_1L_People  \\\n",
       "0      Andhra Pradesh                         72.0   \n",
       "1   Arunachal Pradesh                        168.0   \n",
       "2               Assam                         61.0   \n",
       "3               Bihar                         17.0   \n",
       "4          Chandigarh                        356.0   \n",
       "5        Chhattisgarh                         56.0   \n",
       "6                 Goa                        183.0   \n",
       "7             Gujarat                         68.0   \n",
       "8             Haryana                         55.0   \n",
       "9    Himachal Pradesh                        127.0   \n",
       "10          Jharkhand                         22.0   \n",
       "11          Karnataka                         92.0   \n",
       "12             Kerala                        118.0   \n",
       "13        Lakshadweep                        388.0   \n",
       "14     Madhya Pradesh                         53.0   \n",
       "15        Maharashtra                         61.0   \n",
       "16            Manipur                         90.0   \n",
       "17          Meghalaya                        155.0   \n",
       "18            Mizoram                        211.0   \n",
       "19           Nagaland                         98.0   \n",
       "20             Punjab                         49.0   \n",
       "21          Rajasthan                         76.0   \n",
       "22             Sikkim                        188.0   \n",
       "23         Tamil Nadu                        101.0   \n",
       "24            Tripura                        133.0   \n",
       "25      Uttar Pradesh                         29.0   \n",
       "26        Uttarakhand                         66.0   \n",
       "27        West Bengal                         56.0   \n",
       "\n",
       "    Rural_Government_Hospital_Beds_per_1L_People  \\\n",
       "0                                            8.0   \n",
       "1                                          154.0   \n",
       "2                                           35.0   \n",
       "3                                            6.0   \n",
       "4                                            0.0   \n",
       "5                                           20.0   \n",
       "6                                           96.0   \n",
       "7                                           19.0   \n",
       "8                                           26.0   \n",
       "9                                           83.0   \n",
       "10                                          18.0   \n",
       "11                                          35.0   \n",
       "12                                          50.0   \n",
       "13                                         465.0   \n",
       "14                                          14.0   \n",
       "15                                          11.0   \n",
       "16                                          26.0   \n",
       "17                                          66.0   \n",
       "18                                          55.0   \n",
       "19                                          32.0   \n",
       "20                                          21.0   \n",
       "21                                          31.0   \n",
       "22                                          43.0   \n",
       "23                                          56.0   \n",
       "24                                          31.0   \n",
       "25                                          20.0   \n",
       "26                                          33.0   \n",
       "27                                          22.0   \n",
       "\n",
       "    Urban_Government_Hospital_Beds_per_1L_People  \\\n",
       "0                                           20.0   \n",
       "1                                           19.0   \n",
       "2                                           20.0   \n",
       "3                                            6.0   \n",
       "4                                           74.0   \n",
       "5                                           17.0   \n",
       "6                                          110.0   \n",
       "7                                           34.0   \n",
       "8                                           18.0   \n",
       "9                                           98.0   \n",
       "10                                          15.0   \n",
       "11                                          80.0   \n",
       "12                                          63.0   \n",
       "13                                           0.0   \n",
       "14                                          26.0   \n",
       "15                                          35.0   \n",
       "16                                          24.0   \n",
       "17                                          84.0   \n",
       "18                                         127.0   \n",
       "19                                          63.0   \n",
       "20                                          44.0   \n",
       "21                                          16.0   \n",
       "22                                         213.0   \n",
       "23                                          52.0   \n",
       "24                                          89.0   \n",
       "25                                          19.0   \n",
       "26                                          52.0   \n",
       "27                                          65.0   \n",
       "\n",
       "    Difference_Government_Hospital_Beds_per_1L_People  \n",
       "0                                                12.0  \n",
       "1                                              -135.0  \n",
       "2                                               -15.0  \n",
       "3                                                -0.0  \n",
       "4                                                74.0  \n",
       "5                                                -3.0  \n",
       "6                                                14.0  \n",
       "7                                                15.0  \n",
       "8                                                -8.0  \n",
       "9                                                16.0  \n",
       "10                                               -3.0  \n",
       "11                                               46.0  \n",
       "12                                               13.0  \n",
       "13                                             -465.0  \n",
       "14                                               12.0  \n",
       "15                                               24.0  \n",
       "16                                               -1.0  \n",
       "17                                               17.0  \n",
       "18                                               72.0  \n",
       "19                                               31.0  \n",
       "20                                               23.0  \n",
       "21                                              -15.0  \n",
       "22                                              170.0  \n",
       "23                                               -4.0  \n",
       "24                                               58.0  \n",
       "25                                               -1.0  \n",
       "26                                               19.0  \n",
       "27                                               43.0  "
      ]
     },
     "execution_count": 32,
     "metadata": {},
     "output_type": "execute_result"
    }
   ],
   "source": [
    "df = pd.DataFrame(result, columns=['State_UT','Hospital_Beds_per_1L_People','Rural_Government_Hospital_Beds_per_1L_People','Urban_Government_Hospital_Beds_per_1L_People','Difference_Government_Hospital_Beds_per_1L_People'])\n",
    "df"
   ]
  },
  {
   "attachments": {},
   "cell_type": "markdown",
   "metadata": {},
   "source": [
    "\n",
    "Problem Statement 26: \n",
    "New hospitals are under construction* in different locations, and once they are constructed the data in the database is to be updated. Also, when some hospitals non-operational hospital might be removed. Since the data is quite significant there should be a hospital_log table that would store any changes made to the hospital or government_hospital table.\n",
    "The hospital_log table should contain the name of the district, whether the hospital is situated in urban or rural area, whether the hospital is being added or being removed, date of adding or removing the hospital to/from the existing facilities, and whether it is government hospital or not. The a row in the table must be added automatically whenever a new hospital is added, or an existing hospital is removed. \n"
   ]
  },
  {
   "cell_type": "code",
   "execution_count": 34,
   "metadata": {},
   "outputs": [],
   "source": [
    "mycursor.execute(\"\"\"\n",
    "CREATE TABLE hospital_log(\n",
    "  State_UT varchar(30),\n",
    "  urban_rural enum('rural','urban'),\n",
    "  added_removed enum('added','removed'),\n",
    "  action_date date,\n",
    "  govermnet_private enum('government','private'));\n",
    "\"\"\"\n",
    ")\n"
   ]
  },
  {
   "cell_type": "code",
   "execution_count": 36,
   "metadata": {},
   "outputs": [
    {
     "name": "stdout",
     "output_type": "stream",
     "text": [
      "[]\n"
     ]
    }
   ],
   "source": [
    "query26 =(\"\"\"select * from hospital_log;\n",
    "delimiter //\n",
    "CREATE TRIGGER update_government_hospital_trigger\n",
    "AFTER update ON government_hospital\n",
    "FOR EACH ROW\n",
    "BEGIN\n",
    "declare rural_urban varchar(30);\n",
    "declare added_removed varchar(30);\n",
    "\tIF  new.Rural_Government_Hospitals-old. Rural_Government_Hospitals > 0 THEN\n",
    "\t\tset rural_urban='rural';\n",
    "        set added_removed='Added';\n",
    "\tELSE\n",
    "\t\tset rural_urban='rural';\n",
    "        set added_removed='Removed';\n",
    "\tEND IF;\n",
    "    IF  new.Urban_Government_Hospitals-old.Urban_Government_Hospitals > 0 THEN\n",
    "\t\tset rural_urban='urban';\n",
    "        set added_removed='Added';\n",
    "\tELSE\n",
    "\t\tset rural_urban='urban';\n",
    "        set added_removed='Removed';\n",
    "\tEND IF;\n",
    "    \n",
    "INSERT INTO hospital_log (State_UT, urban_rural, added_removed, action_date, government_private)\n",
    "VALUES (OLD.`State/UT`, rural_urban,added_removed, CURDATE(), 'governmet');\n",
    "END//\n",
    "\"\"\")\n",
    "mycursor.execute(\"COMMIT\")\n",
    "mycursor.execute(query26)\n",
    "result = mycursor.fetchall()\n",
    "\n",
    "print(result)\n"
   ]
  },
  {
   "attachments": {},
   "cell_type": "markdown",
   "metadata": {},
   "source": [
    "Problem Statement 27:\n",
    "New hospital beds are to be added in different government and private hospitals in different locations, and some non-operational hospital beds might be removed from hospitals. Since the data is quite significant there should be a hospital_bed_log table that would store any changes made to the hospital or government_hospital table with respect to number of hospital beds.\n",
    "The hospital_bed_log table should contain the name of the district, whether the hospital is situated in urban or rural area, date of adding or removing hospital beds, the number of beds being added or removed, whether it is being added or removed and whether it is added to/removed from government hospital or not. The table must be updated automatically whenever new hospital beds are added to or removed from the existing facility.\n"
   ]
  },
  {
   "cell_type": "code",
   "execution_count": 41,
   "metadata": {},
   "outputs": [
    {
     "ename": "DatabaseError",
     "evalue": "2014 (HY000): Commands out of sync; you can't run this command now",
     "output_type": "error",
     "traceback": [
      "\u001b[1;31m---------------------------------------------------------------------------\u001b[0m",
      "\u001b[1;31mMySQLInterfaceError\u001b[0m                       Traceback (most recent call last)",
      "File \u001b[1;32mc:\\Users\\Miles\\AppData\\Local\\Programs\\Python\\Python311\\Lib\\site-packages\\mysql\\connector\\connection_cext.py:608\u001b[0m, in \u001b[0;36mCMySQLConnection.cmd_query\u001b[1;34m(self, query, raw, buffered, raw_as_string)\u001b[0m\n\u001b[0;32m    607\u001b[0m         query \u001b[39m=\u001b[39m query\u001b[39m.\u001b[39mencode(\u001b[39m\"\u001b[39m\u001b[39mutf-8\u001b[39m\u001b[39m\"\u001b[39m)\n\u001b[1;32m--> 608\u001b[0m     \u001b[39mself\u001b[39;49m\u001b[39m.\u001b[39;49m_cmysql\u001b[39m.\u001b[39;49mquery(\n\u001b[0;32m    609\u001b[0m         query,\n\u001b[0;32m    610\u001b[0m         raw\u001b[39m=\u001b[39;49mraw,\n\u001b[0;32m    611\u001b[0m         buffered\u001b[39m=\u001b[39;49mbuffered,\n\u001b[0;32m    612\u001b[0m         raw_as_string\u001b[39m=\u001b[39;49mraw_as_string,\n\u001b[0;32m    613\u001b[0m         query_attrs\u001b[39m=\u001b[39;49m\u001b[39mself\u001b[39;49m\u001b[39m.\u001b[39;49m_query_attrs,\n\u001b[0;32m    614\u001b[0m     )\n\u001b[0;32m    615\u001b[0m \u001b[39mexcept\u001b[39;00m MySQLInterfaceError \u001b[39mas\u001b[39;00m err:\n",
      "\u001b[1;31mMySQLInterfaceError\u001b[0m: Commands out of sync; you can't run this command now",
      "\nThe above exception was the direct cause of the following exception:\n",
      "\u001b[1;31mDatabaseError\u001b[0m                             Traceback (most recent call last)",
      "Cell \u001b[1;32mIn[41], line 1\u001b[0m\n\u001b[1;32m----> 1\u001b[0m mycursor\u001b[39m.\u001b[39;49mexecute(\u001b[39m\"\u001b[39;49m\u001b[39mCOMMIT\u001b[39;49m\u001b[39m\"\u001b[39;49m)\n\u001b[0;32m      2\u001b[0m mycursor\u001b[39m.\u001b[39mexecute(\u001b[39m\"\"\"\u001b[39m\n\u001b[0;32m      3\u001b[0m \u001b[39mCREATE TABLE hospital_bed_log(\u001b[39m\n\u001b[0;32m      4\u001b[0m \u001b[39mState_UT varchar(30),\u001b[39m\n\u001b[1;32m   (...)\u001b[0m\n\u001b[0;32m     12\u001b[0m \u001b[39m\"\"\"\u001b[39m\n\u001b[0;32m     13\u001b[0m )\n",
      "File \u001b[1;32mc:\\Users\\Miles\\AppData\\Local\\Programs\\Python\\Python311\\Lib\\site-packages\\mysql\\connector\\cursor_cext.py:330\u001b[0m, in \u001b[0;36mCMySQLCursor.execute\u001b[1;34m(self, operation, params, multi)\u001b[0m\n\u001b[0;32m    325\u001b[0m             \u001b[39mraise\u001b[39;00m ProgrammingError(\n\u001b[0;32m    326\u001b[0m                 \u001b[39m\"\u001b[39m\u001b[39mNot all parameters were used in the SQL statement\u001b[39m\u001b[39m\"\u001b[39m\n\u001b[0;32m    327\u001b[0m             )\n\u001b[0;32m    329\u001b[0m \u001b[39mtry\u001b[39;00m:\n\u001b[1;32m--> 330\u001b[0m     result \u001b[39m=\u001b[39m \u001b[39mself\u001b[39;49m\u001b[39m.\u001b[39;49m_cnx\u001b[39m.\u001b[39;49mcmd_query(\n\u001b[0;32m    331\u001b[0m         stmt,\n\u001b[0;32m    332\u001b[0m         raw\u001b[39m=\u001b[39;49m\u001b[39mself\u001b[39;49m\u001b[39m.\u001b[39;49m_raw,\n\u001b[0;32m    333\u001b[0m         buffered\u001b[39m=\u001b[39;49m\u001b[39mself\u001b[39;49m\u001b[39m.\u001b[39;49m_buffered,\n\u001b[0;32m    334\u001b[0m         raw_as_string\u001b[39m=\u001b[39;49m\u001b[39mself\u001b[39;49m\u001b[39m.\u001b[39;49m_raw_as_string,\n\u001b[0;32m    335\u001b[0m     )\n\u001b[0;32m    336\u001b[0m \u001b[39mexcept\u001b[39;00m MySQLInterfaceError \u001b[39mas\u001b[39;00m err:\n\u001b[0;32m    337\u001b[0m     \u001b[39mraise\u001b[39;00m get_mysql_exception(\n\u001b[0;32m    338\u001b[0m         msg\u001b[39m=\u001b[39merr\u001b[39m.\u001b[39mmsg, errno\u001b[39m=\u001b[39merr\u001b[39m.\u001b[39merrno, sqlstate\u001b[39m=\u001b[39merr\u001b[39m.\u001b[39msqlstate\n\u001b[0;32m    339\u001b[0m     ) \u001b[39mfrom\u001b[39;00m \u001b[39merr\u001b[39;00m\n",
      "File \u001b[1;32mc:\\Users\\Miles\\AppData\\Local\\Programs\\Python\\Python311\\Lib\\site-packages\\mysql\\connector\\connection_cext.py:616\u001b[0m, in \u001b[0;36mCMySQLConnection.cmd_query\u001b[1;34m(self, query, raw, buffered, raw_as_string)\u001b[0m\n\u001b[0;32m    608\u001b[0m     \u001b[39mself\u001b[39m\u001b[39m.\u001b[39m_cmysql\u001b[39m.\u001b[39mquery(\n\u001b[0;32m    609\u001b[0m         query,\n\u001b[0;32m    610\u001b[0m         raw\u001b[39m=\u001b[39mraw,\n\u001b[1;32m   (...)\u001b[0m\n\u001b[0;32m    613\u001b[0m         query_attrs\u001b[39m=\u001b[39m\u001b[39mself\u001b[39m\u001b[39m.\u001b[39m_query_attrs,\n\u001b[0;32m    614\u001b[0m     )\n\u001b[0;32m    615\u001b[0m \u001b[39mexcept\u001b[39;00m MySQLInterfaceError \u001b[39mas\u001b[39;00m err:\n\u001b[1;32m--> 616\u001b[0m     \u001b[39mraise\u001b[39;00m get_mysql_exception(\n\u001b[0;32m    617\u001b[0m         err\u001b[39m.\u001b[39merrno, msg\u001b[39m=\u001b[39merr\u001b[39m.\u001b[39mmsg, sqlstate\u001b[39m=\u001b[39merr\u001b[39m.\u001b[39msqlstate\n\u001b[0;32m    618\u001b[0m     ) \u001b[39mfrom\u001b[39;00m \u001b[39merr\u001b[39;00m\n\u001b[0;32m    619\u001b[0m \u001b[39mexcept\u001b[39;00m \u001b[39mAttributeError\u001b[39;00m \u001b[39mas\u001b[39;00m err:\n\u001b[0;32m    620\u001b[0m     addr \u001b[39m=\u001b[39m (\n\u001b[0;32m    621\u001b[0m         \u001b[39mself\u001b[39m\u001b[39m.\u001b[39m_unix_socket \u001b[39mif\u001b[39;00m \u001b[39mself\u001b[39m\u001b[39m.\u001b[39m_unix_socket \u001b[39melse\u001b[39;00m \u001b[39mf\u001b[39m\u001b[39m\"\u001b[39m\u001b[39m{\u001b[39;00m\u001b[39mself\u001b[39m\u001b[39m.\u001b[39m_host\u001b[39m}\u001b[39;00m\u001b[39m:\u001b[39m\u001b[39m{\u001b[39;00m\u001b[39mself\u001b[39m\u001b[39m.\u001b[39m_port\u001b[39m}\u001b[39;00m\u001b[39m\"\u001b[39m\n\u001b[0;32m    622\u001b[0m     )\n",
      "\u001b[1;31mDatabaseError\u001b[0m: 2014 (HY000): Commands out of sync; you can't run this command now"
     ]
    }
   ],
   "source": [
    "mycursor.execute(\"COMMIT\")\n",
    "mycursor.execute(\"\"\"\n",
    "CREATE TABLE hospital_bed_log(\n",
    "State_UT varchar(30),\n",
    "rural_urban varchar(30),\n",
    "added_removed varchar(30),\n",
    "action_date date,\n",
    "no_of_beds int,\n",
    "government_private varchar(30)\n",
    ") \n",
    "\n",
    "\"\"\"\n",
    ")"
   ]
  },
  {
   "cell_type": "code",
   "execution_count": 42,
   "metadata": {},
   "outputs": [
    {
     "ename": "DatabaseError",
     "evalue": "2014 (HY000): Commands out of sync; you can't run this command now",
     "output_type": "error",
     "traceback": [
      "\u001b[1;31m---------------------------------------------------------------------------\u001b[0m",
      "\u001b[1;31mMySQLInterfaceError\u001b[0m                       Traceback (most recent call last)",
      "File \u001b[1;32mc:\\Users\\Miles\\AppData\\Local\\Programs\\Python\\Python311\\Lib\\site-packages\\mysql\\connector\\connection_cext.py:608\u001b[0m, in \u001b[0;36mCMySQLConnection.cmd_query\u001b[1;34m(self, query, raw, buffered, raw_as_string)\u001b[0m\n\u001b[0;32m    607\u001b[0m         query \u001b[39m=\u001b[39m query\u001b[39m.\u001b[39mencode(\u001b[39m\"\u001b[39m\u001b[39mutf-8\u001b[39m\u001b[39m\"\u001b[39m)\n\u001b[1;32m--> 608\u001b[0m     \u001b[39mself\u001b[39;49m\u001b[39m.\u001b[39;49m_cmysql\u001b[39m.\u001b[39;49mquery(\n\u001b[0;32m    609\u001b[0m         query,\n\u001b[0;32m    610\u001b[0m         raw\u001b[39m=\u001b[39;49mraw,\n\u001b[0;32m    611\u001b[0m         buffered\u001b[39m=\u001b[39;49mbuffered,\n\u001b[0;32m    612\u001b[0m         raw_as_string\u001b[39m=\u001b[39;49mraw_as_string,\n\u001b[0;32m    613\u001b[0m         query_attrs\u001b[39m=\u001b[39;49m\u001b[39mself\u001b[39;49m\u001b[39m.\u001b[39;49m_query_attrs,\n\u001b[0;32m    614\u001b[0m     )\n\u001b[0;32m    615\u001b[0m \u001b[39mexcept\u001b[39;00m MySQLInterfaceError \u001b[39mas\u001b[39;00m err:\n",
      "\u001b[1;31mMySQLInterfaceError\u001b[0m: Commands out of sync; you can't run this command now",
      "\nThe above exception was the direct cause of the following exception:\n",
      "\u001b[1;31mDatabaseError\u001b[0m                             Traceback (most recent call last)",
      "Cell \u001b[1;32mIn[42], line 29\u001b[0m\n\u001b[0;32m      1\u001b[0m query \u001b[39m=\u001b[39m (\u001b[39m\"\"\"\u001b[39m\u001b[39mCREATE TRIGGER update_all_hospital_beds_trigger\u001b[39m\n\u001b[0;32m      2\u001b[0m \u001b[39mAFTER update ON all_hospitals\u001b[39m\n\u001b[0;32m      3\u001b[0m \u001b[39mFOR EACH ROW\u001b[39m\n\u001b[1;32m   (...)\u001b[0m\n\u001b[0;32m     27\u001b[0m \u001b[39mVALUES (OLD.`State/UT`, urban_rural, added_removed, CURDATE(),no_of_beds,\u001b[39m\u001b[39m'\u001b[39m\u001b[39mgoverment\u001b[39m\u001b[39m'\u001b[39m\u001b[39m);\u001b[39m\n\u001b[0;32m     28\u001b[0m \u001b[39mEND//\u001b[39m\u001b[39m\"\"\"\u001b[39m)\n\u001b[1;32m---> 29\u001b[0m mycursor\u001b[39m.\u001b[39;49mexecute(\u001b[39m\"\u001b[39;49m\u001b[39mCOMMIT\u001b[39;49m\u001b[39m\"\u001b[39;49m)\n\u001b[0;32m     30\u001b[0m mycursor\u001b[39m.\u001b[39mexecute(query26)\n\u001b[0;32m     31\u001b[0m result \u001b[39m=\u001b[39m mycursor\u001b[39m.\u001b[39mfetchall()\n",
      "File \u001b[1;32mc:\\Users\\Miles\\AppData\\Local\\Programs\\Python\\Python311\\Lib\\site-packages\\mysql\\connector\\cursor_cext.py:330\u001b[0m, in \u001b[0;36mCMySQLCursor.execute\u001b[1;34m(self, operation, params, multi)\u001b[0m\n\u001b[0;32m    325\u001b[0m             \u001b[39mraise\u001b[39;00m ProgrammingError(\n\u001b[0;32m    326\u001b[0m                 \u001b[39m\"\u001b[39m\u001b[39mNot all parameters were used in the SQL statement\u001b[39m\u001b[39m\"\u001b[39m\n\u001b[0;32m    327\u001b[0m             )\n\u001b[0;32m    329\u001b[0m \u001b[39mtry\u001b[39;00m:\n\u001b[1;32m--> 330\u001b[0m     result \u001b[39m=\u001b[39m \u001b[39mself\u001b[39;49m\u001b[39m.\u001b[39;49m_cnx\u001b[39m.\u001b[39;49mcmd_query(\n\u001b[0;32m    331\u001b[0m         stmt,\n\u001b[0;32m    332\u001b[0m         raw\u001b[39m=\u001b[39;49m\u001b[39mself\u001b[39;49m\u001b[39m.\u001b[39;49m_raw,\n\u001b[0;32m    333\u001b[0m         buffered\u001b[39m=\u001b[39;49m\u001b[39mself\u001b[39;49m\u001b[39m.\u001b[39;49m_buffered,\n\u001b[0;32m    334\u001b[0m         raw_as_string\u001b[39m=\u001b[39;49m\u001b[39mself\u001b[39;49m\u001b[39m.\u001b[39;49m_raw_as_string,\n\u001b[0;32m    335\u001b[0m     )\n\u001b[0;32m    336\u001b[0m \u001b[39mexcept\u001b[39;00m MySQLInterfaceError \u001b[39mas\u001b[39;00m err:\n\u001b[0;32m    337\u001b[0m     \u001b[39mraise\u001b[39;00m get_mysql_exception(\n\u001b[0;32m    338\u001b[0m         msg\u001b[39m=\u001b[39merr\u001b[39m.\u001b[39mmsg, errno\u001b[39m=\u001b[39merr\u001b[39m.\u001b[39merrno, sqlstate\u001b[39m=\u001b[39merr\u001b[39m.\u001b[39msqlstate\n\u001b[0;32m    339\u001b[0m     ) \u001b[39mfrom\u001b[39;00m \u001b[39merr\u001b[39;00m\n",
      "File \u001b[1;32mc:\\Users\\Miles\\AppData\\Local\\Programs\\Python\\Python311\\Lib\\site-packages\\mysql\\connector\\connection_cext.py:616\u001b[0m, in \u001b[0;36mCMySQLConnection.cmd_query\u001b[1;34m(self, query, raw, buffered, raw_as_string)\u001b[0m\n\u001b[0;32m    608\u001b[0m     \u001b[39mself\u001b[39m\u001b[39m.\u001b[39m_cmysql\u001b[39m.\u001b[39mquery(\n\u001b[0;32m    609\u001b[0m         query,\n\u001b[0;32m    610\u001b[0m         raw\u001b[39m=\u001b[39mraw,\n\u001b[1;32m   (...)\u001b[0m\n\u001b[0;32m    613\u001b[0m         query_attrs\u001b[39m=\u001b[39m\u001b[39mself\u001b[39m\u001b[39m.\u001b[39m_query_attrs,\n\u001b[0;32m    614\u001b[0m     )\n\u001b[0;32m    615\u001b[0m \u001b[39mexcept\u001b[39;00m MySQLInterfaceError \u001b[39mas\u001b[39;00m err:\n\u001b[1;32m--> 616\u001b[0m     \u001b[39mraise\u001b[39;00m get_mysql_exception(\n\u001b[0;32m    617\u001b[0m         err\u001b[39m.\u001b[39merrno, msg\u001b[39m=\u001b[39merr\u001b[39m.\u001b[39mmsg, sqlstate\u001b[39m=\u001b[39merr\u001b[39m.\u001b[39msqlstate\n\u001b[0;32m    618\u001b[0m     ) \u001b[39mfrom\u001b[39;00m \u001b[39merr\u001b[39;00m\n\u001b[0;32m    619\u001b[0m \u001b[39mexcept\u001b[39;00m \u001b[39mAttributeError\u001b[39;00m \u001b[39mas\u001b[39;00m err:\n\u001b[0;32m    620\u001b[0m     addr \u001b[39m=\u001b[39m (\n\u001b[0;32m    621\u001b[0m         \u001b[39mself\u001b[39m\u001b[39m.\u001b[39m_unix_socket \u001b[39mif\u001b[39;00m \u001b[39mself\u001b[39m\u001b[39m.\u001b[39m_unix_socket \u001b[39melse\u001b[39;00m \u001b[39mf\u001b[39m\u001b[39m\"\u001b[39m\u001b[39m{\u001b[39;00m\u001b[39mself\u001b[39m\u001b[39m.\u001b[39m_host\u001b[39m}\u001b[39;00m\u001b[39m:\u001b[39m\u001b[39m{\u001b[39;00m\u001b[39mself\u001b[39m\u001b[39m.\u001b[39m_port\u001b[39m}\u001b[39;00m\u001b[39m\"\u001b[39m\n\u001b[0;32m    622\u001b[0m     )\n",
      "\u001b[1;31mDatabaseError\u001b[0m: 2014 (HY000): Commands out of sync; you can't run this command now"
     ]
    }
   ],
   "source": [
    "query = (\"\"\"CREATE TRIGGER update_all_hospital_beds_trigger\n",
    "AFTER update ON all_hospitals\n",
    "FOR EACH ROW\n",
    "BEGIN\n",
    "\tdeclare urban_rural varchar(30);\n",
    "\tdeclare added_removed varchar(30);\n",
    "\tdeclare no_of_beds int;\n",
    "\tif new.Rural_Government_Beds -old.Rural_Government_Beds >0 then\n",
    "\t\tset added_removed='added';\n",
    "\t\tset no_of_beds=new.Rural_Government_Beds -old.Rural_Government_Beds;\n",
    "\t\tset urban_rural='rural';\n",
    "    else\n",
    "\t\tset added_removed='removed';\n",
    "\t\tset no_of_beds=old.Rural_Government_Beds -new.Rural_Government_Beds;\n",
    "\t\tset urban_rural='rural';\n",
    "\tend if;\n",
    "\tif new.Urban_Government_Beds -old.Urban_Government_Beds >0 then\n",
    "\t\tset added_removed='added';\n",
    "\t\tset no_of_beds=new.Urban_Government_Beds -new.Urban_Government_Beds;\n",
    "\t\tset urban_rural='urban';\n",
    "    else\n",
    "\t\tset added_removed='removed';\n",
    "\t\tset no_of_beds=old.Urban_Government_Beds -new.Urban_Government_Beds;\n",
    "\t\tset urban_rural='urban';\n",
    "\tend if;\n",
    "INSERT INTO hospital_bed_log (State_UT, urban_rural, added_removed, action_date,no_of_beds, government_private)\n",
    "VALUES (OLD.`State/UT`, urban_rural, added_removed, CURDATE(),no_of_beds,'goverment');\n",
    "END//\"\"\")\n",
    "mycursor.execute(\"COMMIT\")\n",
    "mycursor.execute(query26)\n",
    "result = mycursor.fetchall()\n",
    "\n",
    "print(result)\n"
   ]
  }
 ],
 "metadata": {
  "kernelspec": {
   "display_name": "Python 3",
   "language": "python",
   "name": "python3"
  },
  "language_info": {
   "codemirror_mode": {
    "name": "ipython",
    "version": 3
   },
   "file_extension": ".py",
   "mimetype": "text/x-python",
   "name": "python",
   "nbconvert_exporter": "python",
   "pygments_lexer": "ipython3",
   "version": "3.11.1"
  },
  "orig_nbformat": 4,
  "vscode": {
   "interpreter": {
    "hash": "4e88bdc4ffaf714f052ea44841663715f0f9ac30e2bb87c5afadf88925ae67cf"
   }
  }
 },
 "nbformat": 4,
 "nbformat_minor": 2
}
