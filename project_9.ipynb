{
 "cells": [
  {
   "attachments": {},
   "cell_type": "markdown",
   "metadata": {},
   "source": [
    "## Housing-Redundant data  - project 9"
   ]
  },
  {
   "cell_type": "code",
   "execution_count": 2,
   "metadata": {},
   "outputs": [],
   "source": [
    "import pandas as pd\n",
    "import numpy as np"
   ]
  },
  {
   "cell_type": "code",
   "execution_count": 3,
   "metadata": {},
   "outputs": [
    {
     "data": {
      "text/html": [
       "<div>\n",
       "<style scoped>\n",
       "    .dataframe tbody tr th:only-of-type {\n",
       "        vertical-align: middle;\n",
       "    }\n",
       "\n",
       "    .dataframe tbody tr th {\n",
       "        vertical-align: top;\n",
       "    }\n",
       "\n",
       "    .dataframe thead th {\n",
       "        text-align: right;\n",
       "    }\n",
       "</style>\n",
       "<table border=\"1\" class=\"dataframe\">\n",
       "  <thead>\n",
       "    <tr style=\"text-align: right;\">\n",
       "      <th></th>\n",
       "      <th>State/UT</th>\n",
       "      <th>District</th>\n",
       "      <th>Households_Rural</th>\n",
       "      <th>Households_Urban</th>\n",
       "    </tr>\n",
       "  </thead>\n",
       "  <tbody>\n",
       "    <tr>\n",
       "      <th>0</th>\n",
       "      <td>Jammu and Kashmir</td>\n",
       "      <td>Kupwara</td>\n",
       "      <td>158438.0</td>\n",
       "      <td>23226.0</td>\n",
       "    </tr>\n",
       "    <tr>\n",
       "      <th>1</th>\n",
       "      <td>Jammu and Kashmir</td>\n",
       "      <td>Badgam</td>\n",
       "      <td>160649.0</td>\n",
       "      <td>27190.0</td>\n",
       "    </tr>\n",
       "    <tr>\n",
       "      <th>2</th>\n",
       "      <td>Laddakh</td>\n",
       "      <td>Leh(Ladakh)</td>\n",
       "      <td>36920.0</td>\n",
       "      <td>17474.0</td>\n",
       "    </tr>\n",
       "    <tr>\n",
       "      <th>3</th>\n",
       "      <td>Laddakh</td>\n",
       "      <td>Kargil</td>\n",
       "      <td>40370.0</td>\n",
       "      <td>7774.0</td>\n",
       "    </tr>\n",
       "    <tr>\n",
       "      <th>4</th>\n",
       "      <td>Jammu and Kashmir</td>\n",
       "      <td>Punch</td>\n",
       "      <td>132139.0</td>\n",
       "      <td>15269.0</td>\n",
       "    </tr>\n",
       "  </tbody>\n",
       "</table>\n",
       "</div>"
      ],
      "text/plain": [
       "            State/UT     District  Households_Rural  Households_Urban\n",
       "0  Jammu and Kashmir      Kupwara          158438.0           23226.0\n",
       "1  Jammu and Kashmir       Badgam          160649.0           27190.0\n",
       "2            Laddakh  Leh(Ladakh)           36920.0           17474.0\n",
       "3            Laddakh       Kargil           40370.0            7774.0\n",
       "4  Jammu and Kashmir        Punch          132139.0           15269.0"
      ]
     },
     "execution_count": 3,
     "metadata": {},
     "output_type": "execute_result"
    }
   ],
   "source": [
    "red_cen = pd.read_csv('../cleandata/census_clean.csv', usecols = ['State/UT', 'District', 'Households_Rural', 'Households_Urban'])\n",
    "red_cen.head()"
   ]
  },
  {
   "cell_type": "code",
   "execution_count": 4,
   "metadata": {},
   "outputs": [
    {
     "data": {
      "text/html": [
       "<div>\n",
       "<style scoped>\n",
       "    .dataframe tbody tr th:only-of-type {\n",
       "        vertical-align: middle;\n",
       "    }\n",
       "\n",
       "    .dataframe tbody tr th {\n",
       "        vertical-align: top;\n",
       "    }\n",
       "\n",
       "    .dataframe thead th {\n",
       "        text-align: right;\n",
       "    }\n",
       "</style>\n",
       "<table border=\"1\" class=\"dataframe\">\n",
       "  <thead>\n",
       "    <tr style=\"text-align: right;\">\n",
       "      <th></th>\n",
       "      <th>State/UT</th>\n",
       "      <th>District</th>\n",
       "      <th>Households_Rural</th>\n",
       "      <th>Households_Urban</th>\n",
       "    </tr>\n",
       "  </thead>\n",
       "  <tbody>\n",
       "    <tr>\n",
       "      <th>0</th>\n",
       "      <td>Andaman and Nicobar Islands</td>\n",
       "      <td>Nicobars</td>\n",
       "      <td>15958</td>\n",
       "      <td>0</td>\n",
       "    </tr>\n",
       "    <tr>\n",
       "      <th>1</th>\n",
       "      <td>Andaman and Nicobar Islands</td>\n",
       "      <td>South Andaman</td>\n",
       "      <td>34901</td>\n",
       "      <td>50631</td>\n",
       "    </tr>\n",
       "    <tr>\n",
       "      <th>2</th>\n",
       "      <td>Andhra Pradesh</td>\n",
       "      <td>Adilabad</td>\n",
       "      <td>597466</td>\n",
       "      <td>220248</td>\n",
       "    </tr>\n",
       "    <tr>\n",
       "      <th>3</th>\n",
       "      <td>Andhra Pradesh</td>\n",
       "      <td>Anantapur</td>\n",
       "      <td>902997</td>\n",
       "      <td>341431</td>\n",
       "    </tr>\n",
       "    <tr>\n",
       "      <th>4</th>\n",
       "      <td>Andhra Pradesh</td>\n",
       "      <td>Chittoor</td>\n",
       "      <td>120763</td>\n",
       "      <td>395900</td>\n",
       "    </tr>\n",
       "  </tbody>\n",
       "</table>\n",
       "</div>"
      ],
      "text/plain": [
       "                      State/UT       District  Households_Rural  \\\n",
       "0  Andaman and Nicobar Islands       Nicobars             15958   \n",
       "1  Andaman and Nicobar Islands  South Andaman             34901   \n",
       "2               Andhra Pradesh       Adilabad            597466   \n",
       "3               Andhra Pradesh      Anantapur            902997   \n",
       "4               Andhra Pradesh       Chittoor            120763   \n",
       "\n",
       "   Households_Urban  \n",
       "0                 0  \n",
       "1             50631  \n",
       "2            220248  \n",
       "3            341431  \n",
       "4            395900  "
      ]
     },
     "execution_count": 4,
     "metadata": {},
     "output_type": "execute_result"
    }
   ],
   "source": [
    "red_house = pd.read_csv('../cleandata/housing_clean.csv', usecols = ['State/UT', 'District', 'Households_Rural', 'Households_Urban'])\n",
    "red_house.head()"
   ]
  },
  {
   "cell_type": "code",
   "execution_count": 5,
   "metadata": {},
   "outputs": [
    {
     "data": {
      "text/html": [
       "<div>\n",
       "<style scoped>\n",
       "    .dataframe tbody tr th:only-of-type {\n",
       "        vertical-align: middle;\n",
       "    }\n",
       "\n",
       "    .dataframe tbody tr th {\n",
       "        vertical-align: top;\n",
       "    }\n",
       "\n",
       "    .dataframe thead th {\n",
       "        text-align: right;\n",
       "    }\n",
       "</style>\n",
       "<table border=\"1\" class=\"dataframe\">\n",
       "  <thead>\n",
       "    <tr style=\"text-align: right;\">\n",
       "      <th></th>\n",
       "      <th>State/UT</th>\n",
       "      <th>District</th>\n",
       "      <th>Households_Rural_x</th>\n",
       "      <th>Households_Urban_x</th>\n",
       "      <th>Households_Rural_y</th>\n",
       "      <th>Households_Urban_y</th>\n",
       "    </tr>\n",
       "  </thead>\n",
       "  <tbody>\n",
       "    <tr>\n",
       "      <th>0</th>\n",
       "      <td>Jammu and Kashmir</td>\n",
       "      <td>Kupwara</td>\n",
       "      <td>158438.0</td>\n",
       "      <td>23226.0</td>\n",
       "      <td>158438</td>\n",
       "      <td>23226</td>\n",
       "    </tr>\n",
       "    <tr>\n",
       "      <th>1</th>\n",
       "      <td>Jammu and Kashmir</td>\n",
       "      <td>Badgam</td>\n",
       "      <td>160649.0</td>\n",
       "      <td>27190.0</td>\n",
       "      <td>160649</td>\n",
       "      <td>27190</td>\n",
       "    </tr>\n",
       "    <tr>\n",
       "      <th>2</th>\n",
       "      <td>Laddakh</td>\n",
       "      <td>Leh(Ladakh)</td>\n",
       "      <td>36920.0</td>\n",
       "      <td>17474.0</td>\n",
       "      <td>36920</td>\n",
       "      <td>17474</td>\n",
       "    </tr>\n",
       "    <tr>\n",
       "      <th>3</th>\n",
       "      <td>Laddakh</td>\n",
       "      <td>Kargil</td>\n",
       "      <td>40370.0</td>\n",
       "      <td>7774.0</td>\n",
       "      <td>40370</td>\n",
       "      <td>7774</td>\n",
       "    </tr>\n",
       "    <tr>\n",
       "      <th>4</th>\n",
       "      <td>Jammu and Kashmir</td>\n",
       "      <td>Punch</td>\n",
       "      <td>132139.0</td>\n",
       "      <td>15269.0</td>\n",
       "      <td>132139</td>\n",
       "      <td>15269</td>\n",
       "    </tr>\n",
       "  </tbody>\n",
       "</table>\n",
       "</div>"
      ],
      "text/plain": [
       "            State/UT     District  Households_Rural_x  Households_Urban_x  \\\n",
       "0  Jammu and Kashmir      Kupwara            158438.0             23226.0   \n",
       "1  Jammu and Kashmir       Badgam            160649.0             27190.0   \n",
       "2            Laddakh  Leh(Ladakh)             36920.0             17474.0   \n",
       "3            Laddakh       Kargil             40370.0              7774.0   \n",
       "4  Jammu and Kashmir        Punch            132139.0             15269.0   \n",
       "\n",
       "   Households_Rural_y  Households_Urban_y  \n",
       "0              158438               23226  \n",
       "1              160649               27190  \n",
       "2               36920               17474  \n",
       "3               40370                7774  \n",
       "4              132139               15269  "
      ]
     },
     "execution_count": 5,
     "metadata": {},
     "output_type": "execute_result"
    }
   ],
   "source": [
    "red_merge = red_cen.merge(red_house, on=['State/UT','District'], how='inner')\n",
    "red_merge.head()"
   ]
  },
  {
   "cell_type": "code",
   "execution_count": 7,
   "metadata": {},
   "outputs": [
    {
     "data": {
      "text/html": [
       "<div>\n",
       "<style scoped>\n",
       "    .dataframe tbody tr th:only-of-type {\n",
       "        vertical-align: middle;\n",
       "    }\n",
       "\n",
       "    .dataframe tbody tr th {\n",
       "        vertical-align: top;\n",
       "    }\n",
       "\n",
       "    .dataframe thead th {\n",
       "        text-align: right;\n",
       "    }\n",
       "</style>\n",
       "<table border=\"1\" class=\"dataframe\">\n",
       "  <thead>\n",
       "    <tr style=\"text-align: right;\">\n",
       "      <th></th>\n",
       "      <th>State/UT</th>\n",
       "      <th>District</th>\n",
       "      <th>Households_Rural_x</th>\n",
       "      <th>Households_Urban_x</th>\n",
       "      <th>Households_Rural_y</th>\n",
       "      <th>Households_Urban_y</th>\n",
       "    </tr>\n",
       "  </thead>\n",
       "  <tbody>\n",
       "  </tbody>\n",
       "</table>\n",
       "</div>"
      ],
      "text/plain": [
       "Empty DataFrame\n",
       "Columns: [State/UT, District, Households_Rural_x, Households_Urban_x, Households_Rural_y, Households_Urban_y]\n",
       "Index: []"
      ]
     },
     "execution_count": 7,
     "metadata": {},
     "output_type": "execute_result"
    }
   ],
   "source": [
    "(red_merge['Households_Rural_x']-red_merge['Households_Rural_y']).unique()\n",
    "rural_cond = abs(red_merge['Households_Rural_x']-red_merge['Households_Rural_y'])/red_merge['Households_Rural_x'] >= 0.1\n",
    "urban_cond = abs(red_merge['Households_Urban_x']-red_merge['Households_Urban_y'])/red_merge['Households_Urban_x'] >= 0.1\n",
    "red_merge.loc[rural_cond, :]"
   ]
  },
  {
   "cell_type": "code",
   "execution_count": 8,
   "metadata": {},
   "outputs": [
    {
     "data": {
      "text/html": [
       "<div>\n",
       "<style scoped>\n",
       "    .dataframe tbody tr th:only-of-type {\n",
       "        vertical-align: middle;\n",
       "    }\n",
       "\n",
       "    .dataframe tbody tr th {\n",
       "        vertical-align: top;\n",
       "    }\n",
       "\n",
       "    .dataframe thead th {\n",
       "        text-align: right;\n",
       "    }\n",
       "</style>\n",
       "<table border=\"1\" class=\"dataframe\">\n",
       "  <thead>\n",
       "    <tr style=\"text-align: right;\">\n",
       "      <th></th>\n",
       "      <th>State/UT</th>\n",
       "      <th>District</th>\n",
       "      <th>Households_Rural_x</th>\n",
       "      <th>Households_Urban_x</th>\n",
       "      <th>Households_Rural_y</th>\n",
       "      <th>Households_Urban_y</th>\n",
       "    </tr>\n",
       "  </thead>\n",
       "  <tbody>\n",
       "  </tbody>\n",
       "</table>\n",
       "</div>"
      ],
      "text/plain": [
       "Empty DataFrame\n",
       "Columns: [State/UT, District, Households_Rural_x, Households_Urban_x, Households_Rural_y, Households_Urban_y]\n",
       "Index: []"
      ]
     },
     "execution_count": 8,
     "metadata": {},
     "output_type": "execute_result"
    }
   ],
   "source": [
    "red_merge.loc[urban_cond, :]"
   ]
  }
 ],
 "metadata": {
  "kernelspec": {
   "display_name": "Python 3",
   "language": "python",
   "name": "python3"
  },
  "language_info": {
   "codemirror_mode": {
    "name": "ipython",
    "version": 3
   },
   "file_extension": ".py",
   "mimetype": "text/x-python",
   "name": "python",
   "nbconvert_exporter": "python",
   "pygments_lexer": "ipython3",
   "version": "3.11.1"
  },
  "orig_nbformat": 4,
  "vscode": {
   "interpreter": {
    "hash": "4e88bdc4ffaf714f052ea44841663715f0f9ac30e2bb87c5afadf88925ae67cf"
   }
  }
 },
 "nbformat": 4,
 "nbformat_minor": 2
}
